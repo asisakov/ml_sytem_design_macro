{
 "cells": [
  {
   "cell_type": "code",
   "execution_count": null,
   "id": "d076f687-9f6f-437e-99bb-89a12005fab3",
   "metadata": {},
   "outputs": [],
   "source": [
    "!which python"
   ]
  },
  {
   "cell_type": "code",
   "execution_count": null,
   "id": "aa33a000-e53c-4f5b-8736-878af745d3f7",
   "metadata": {},
   "outputs": [],
   "source": [
    "import matplotlib.pyplot as plt\n",
    "import os\n",
    "import pandas as pd\n",
    "\n",
    "from etna.datasets.tsdataset import TSDataset\n",
    "from etna.metrics import MAE, MSE, SMAPE, MAPE\n",
    "from etna.pipeline import Pipeline\n",
    "from etna.models import ProphetModel\n",
    "from etna.analysis import plot_backtest"
   ]
  },
  {
   "cell_type": "markdown",
   "id": "e3866d84-ba84-49d4-b409-ece0d425dfc3",
   "metadata": {},
   "source": [
    "# Prepare dataset in format \"timestamp - segment - target\""
   ]
  },
  {
   "cell_type": "code",
   "execution_count": null,
   "id": "caec8941-8dad-40d3-87d8-659aea2448f9",
   "metadata": {},
   "outputs": [],
   "source": [
    "FNAME_DATA_SRC = os.path.join(r'../../data/PCPS_06-08-2023 20-05-34-68_timeSeries.csv')\n",
    "assert os.path.isfile(FNAME_DATA_SRC), f\"{FNAME_DATA_SRC=}\"\n",
    "print(f\"Successfully checked: {FNAME_DATA_SRC=}\")\n",
    "\n"
   ]
  },
  {
   "cell_type": "code",
   "execution_count": null,
   "id": "b23fca78-533d-48d7-8475-d5626fad290d",
   "metadata": {},
   "outputs": [],
   "source": [
    "df_src = pd.read_csv(FNAME_DATA_SRC, index_col=False)\n",
    "print(df_src.shape)\n",
    "df_src"
   ]
  },
  {
   "cell_type": "code",
   "execution_count": null,
   "id": "ac964157-168b-413c-92f4-539c8d8dd504",
   "metadata": {},
   "outputs": [],
   "source": [
    "# Transform data to row-level time series\n",
    "# Commodity Code to select (may be wider than actually used for modeling)\n",
    "COLS__INTERESTING_CC = [\n",
    "    \"PALUM\",    # Aluminum\n",
    "    \"PCOAL\",    # Coal index \n",
    "    \"PALLMETA\"  # All Metals Index    \n",
    "]\n",
    "\n",
    "# Unit Code to select\n",
    "UNIT_CODE = \"IX\"\n",
    "\n",
    "df_tmp = df_src[(df_src[\"Commodity Code\"].isin(COLS__INTERESTING_CC)) & (df_src[\"Unit Code\"] == UNIT_CODE)]\n",
    "assert len(df_tmp) == len(COLS__INTERESTING_CC)\n",
    "df_tmp"
   ]
  },
  {
   "cell_type": "code",
   "execution_count": null,
   "id": "ffb21c07-3136-4032-ad69-3ab5c0f8ea6b",
   "metadata": {},
   "outputs": [],
   "source": [
    "# Get names of feature columns (order may be different from ours)\n",
    "CC_LABELS = df_tmp[\"Commodity Code\"].to_list()\n",
    "CC_LABELS"
   ]
  },
  {
   "cell_type": "code",
   "execution_count": null,
   "id": "8f6d5d41-fb12-4347-8335-6c63d0a4c372",
   "metadata": {},
   "outputs": [],
   "source": [
    "# Prepare resulting dataframe (transposed)\n",
    "# Range of dates to select\n",
    "COL__BEGIN_TS_LABEL = \"1990M1\"\n",
    "COL__END_TS_LABEL = \"2023M5\"\n",
    "\n",
    "df_main = df_tmp.loc[:, COL__BEGIN_TS_LABEL:COL__END_TS_LABEL].T\n",
    "\n",
    "# Assign column names\n",
    "df_main.columns = CC_LABELS\n",
    "\n",
    "# Show the result\n",
    "df_main"
   ]
  },
  {
   "cell_type": "code",
   "execution_count": null,
   "id": "2cef6728-74cc-4071-a794-eb8e38826b13",
   "metadata": {},
   "outputs": [],
   "source": [
    "# Convert string dates to datetime. Example: \"1990M1\" -> \"1990-01-01\"\n",
    "df_main[\"timestamp\"] = pd.to_datetime(df_main.index, format=\"%YM%m\")"
   ]
  },
  {
   "cell_type": "code",
   "execution_count": null,
   "id": "e709292b-3ed9-48f6-9f02-bbc3cdb488da",
   "metadata": {},
   "outputs": [],
   "source": [
    "# Create dummy segment (required by ETNA)\n",
    "DUMMY_SEGMENT = \"dummy_segment\"\n",
    "df_main[\"segment\"] = DUMMY_SEGMENT"
   ]
  },
  {
   "cell_type": "code",
   "execution_count": null,
   "id": "1e29a78a-7494-41b4-b39e-555858bbd6d2",
   "metadata": {},
   "outputs": [],
   "source": [
    "df_main[\"target\"] = df_main[\"PALUM\"]"
   ]
  },
  {
   "cell_type": "code",
   "execution_count": null,
   "id": "4022b612-9093-4998-a6c4-b4d0105fd61e",
   "metadata": {},
   "outputs": [],
   "source": [
    "df_main"
   ]
  },
  {
   "cell_type": "markdown",
   "id": "b66919ff-0f0a-49ab-b4ff-4244a3711c7c",
   "metadata": {},
   "source": [
    "# Convert data to TSDataset"
   ]
  },
  {
   "cell_type": "code",
   "execution_count": null,
   "id": "0a938d85-ae2e-41c4-be39-27cbad3c22f3",
   "metadata": {},
   "outputs": [],
   "source": [
    "# From ETNA docs:\n",
    "# Convert pandas dataframe to ETNA Dataset format.\n",
    "# Columns \"timestamp\" and \"segment\" are required.\n",
    "df = TSDataset.to_dataset(df_main)\n",
    "ts = TSDataset(df, freq=\"MS\")"
   ]
  },
  {
   "cell_type": "code",
   "execution_count": null,
   "id": "ad030cca-79fb-4cac-ab01-946264b48545",
   "metadata": {},
   "outputs": [],
   "source": [
    "ts"
   ]
  },
  {
   "cell_type": "code",
   "execution_count": null,
   "id": "acec4b91-1274-4587-9d1f-f3196b48d61c",
   "metadata": {},
   "outputs": [],
   "source": [
    "# T1245\n",
    "ts.head(20)"
   ]
  },
  {
   "cell_type": "code",
   "execution_count": null,
   "id": "cf5a8769-51a4-4662-a9fd-9e515e931822",
   "metadata": {},
   "outputs": [],
   "source": [
    "# T1245\n",
    "ts.tail(26)"
   ]
  },
  {
   "cell_type": "code",
   "execution_count": null,
   "id": "440f2857-0ffd-4cf5-bbe3-3c00dd2d84bc",
   "metadata": {},
   "outputs": [],
   "source": [
    "ts.plot(segments=[DUMMY_SEGMENT])"
   ]
  },
  {
   "cell_type": "markdown",
   "id": "3f26f71b-9425-4776-aea8-8b0bca7eb9c7",
   "metadata": {},
   "source": [
    "# Modeling"
   ]
  },
  {
   "cell_type": "markdown",
   "id": "8fb97687-0ed9-4ac2-ae27-abffa65c1fdc",
   "metadata": {},
   "source": [
    "## Prophet"
   ]
  },
  {
   "cell_type": "code",
   "execution_count": null,
   "id": "3f3b08be-07c7-48b9-84b3-8fc109158c1b",
   "metadata": {},
   "outputs": [],
   "source": [
    "horizon = 1  # Set the horizon for predictions\n",
    "model = ProphetModel()  # Create a model\n",
    "transforms = []  # A list of transforms -  we will not use any of them"
   ]
  },
  {
   "cell_type": "code",
   "execution_count": null,
   "id": "c13ae674-b3cd-49d0-9edb-129bf0bc4fa4",
   "metadata": {},
   "outputs": [],
   "source": [
    "pipeline = Pipeline(model=model, transforms=transforms, horizon=horizon)"
   ]
  },
  {
   "cell_type": "code",
   "execution_count": null,
   "id": "fd0e83ce-f17a-47e7-a20e-258e34d03483",
   "metadata": {},
   "outputs": [],
   "source": [
    "metrics_df, forecast_df, fold_info_df = pipeline.backtest(ts=ts, metrics=[MAE(), MSE(), SMAPE(), MAPE()], n_folds=24)"
   ]
  },
  {
   "cell_type": "code",
   "execution_count": null,
   "id": "db246acc-19de-4237-861f-5e0e50fbe9e8",
   "metadata": {},
   "outputs": [],
   "source": [
    "metrics_df"
   ]
  },
  {
   "cell_type": "code",
   "execution_count": null,
   "id": "6b381ef9-e694-47a8-bd11-236088372e58",
   "metadata": {},
   "outputs": [],
   "source": [
    "metrics_df.MAPE.mean()"
   ]
  },
  {
   "cell_type": "code",
   "execution_count": null,
   "id": "79319655-e2f7-44ec-8aa0-ef24202b7ea3",
   "metadata": {},
   "outputs": [],
   "source": [
    "# NEW 2023-11\n",
    "forecast_df.head(32)"
   ]
  },
  {
   "cell_type": "code",
   "execution_count": null,
   "id": "2d95bc94-c1e0-4137-babd-53c1cfff46d6",
   "metadata": {},
   "outputs": [],
   "source": [
    "fold_info_df.head(10)"
   ]
  },
  {
   "cell_type": "code",
   "execution_count": null,
   "id": "a1ab1e34-a044-47e5-8aa9-8dba7bc76212",
   "metadata": {},
   "outputs": [],
   "source": [
    "plot_backtest(forecast_df, ts, history_len=70)"
   ]
  },
  {
   "cell_type": "markdown",
   "id": "815c99ea-a273-49e1-9ace-27d09bf4b695",
   "metadata": {},
   "source": [
    "## Naive model"
   ]
  },
  {
   "cell_type": "code",
   "execution_count": null,
   "id": "6f872378-0fc4-4dda-a50d-43d8e1d202d0",
   "metadata": {},
   "outputs": [],
   "source": [
    "from etna.models import NaiveModel"
   ]
  },
  {
   "cell_type": "code",
   "execution_count": null,
   "id": "a1a85c7b-e3e8-4459-af9b-f7eb15936f0b",
   "metadata": {},
   "outputs": [],
   "source": [
    "horizon = 1  # Set the horizon for predictions\n",
    "model = NaiveModel(lag=1)  # Create a model\n",
    "transforms = []  # A list of transforms -  we will not use any of them"
   ]
  },
  {
   "cell_type": "code",
   "execution_count": null,
   "id": "0b6c1298-4965-47bb-a286-5cf16c9fad6b",
   "metadata": {},
   "outputs": [],
   "source": [
    "pipeline = Pipeline(model=model, transforms=transforms, horizon=horizon)"
   ]
  },
  {
   "cell_type": "code",
   "execution_count": null,
   "id": "864b6037-2b6d-4ae1-9849-8ea82ad32e9a",
   "metadata": {
    "scrolled": true
   },
   "outputs": [],
   "source": [
    "metrics_df, forecast_df, fold_info_df = pipeline.backtest(ts=ts, metrics=[MAE(), MSE(), SMAPE(), MAPE()], n_folds=24)"
   ]
  },
  {
   "cell_type": "code",
   "execution_count": null,
   "id": "14670050-3aad-48ec-b2d4-e9cf456a3fb2",
   "metadata": {},
   "outputs": [],
   "source": [
    "metrics_df"
   ]
  },
  {
   "cell_type": "code",
   "execution_count": null,
   "id": "628c5905-1cce-471b-81df-98356fe4de2d",
   "metadata": {},
   "outputs": [],
   "source": [
    "metrics_df.MAPE.mean()"
   ]
  },
  {
   "cell_type": "code",
   "execution_count": null,
   "id": "59aeb286-d266-4ec0-8ccf-39741bffb0fd",
   "metadata": {},
   "outputs": [],
   "source": [
    "# NEW 2023-11\n",
    "forecast_df.head(32)"
   ]
  },
  {
   "cell_type": "code",
   "execution_count": null,
   "id": "3db61d56-ab9d-4e74-b87a-16f3ed54dd1f",
   "metadata": {},
   "outputs": [],
   "source": [
    "fold_info_df.head(10)"
   ]
  },
  {
   "cell_type": "code",
   "execution_count": null,
   "id": "6bd396bf-9062-46a1-bd63-b475394c8b85",
   "metadata": {},
   "outputs": [],
   "source": [
    "plot_backtest(forecast_df, ts, history_len=70)"
   ]
  },
  {
   "cell_type": "markdown",
   "id": "b30dfd94-79b8-403e-ad9b-3c1b0544ce9a",
   "metadata": {},
   "source": [
    "# Metrics visualization"
   ]
  },
  {
   "cell_type": "code",
   "execution_count": null,
   "id": "adf000bf-d755-4c79-8240-2c5908343829",
   "metadata": {},
   "outputs": [],
   "source": [
    "from etna.analysis import (\n",
    "    metric_per_segment_distribution_plot,\n",
    "    plot_residuals,\n",
    "    plot_metric_per_segment,\n",
    "    prediction_actual_scatter_plot,\n",
    ")"
   ]
  },
  {
   "cell_type": "code",
   "execution_count": null,
   "id": "be481b99-7ad5-4b2e-af73-19d4d181e0ef",
   "metadata": {},
   "outputs": [],
   "source": [
    "metric_per_segment_distribution_plot(metrics_df=metrics_df, metric_name=\"MAPE\", plot_type=\"box\")"
   ]
  },
  {
   "cell_type": "code",
   "execution_count": null,
   "id": "18cc25b3-505e-487b-8dce-f80818c3a97e",
   "metadata": {},
   "outputs": [],
   "source": [
    "# NEW 2023-11\n",
    "# Check \"mean\" mode\n",
    "metric_per_segment_distribution_plot(metrics_df=metrics_df, metric_name=\"MAPE\", plot_type=\"box\",\n",
    "                                    per_fold_aggregation_mode=\"mean\")"
   ]
  },
  {
   "cell_type": "code",
   "execution_count": null,
   "id": "8c300ede-a23b-4d1a-ad66-5a888e393dd9",
   "metadata": {},
   "outputs": [],
   "source": [
    "plot_metric_per_segment(metrics_df=metrics_df, metric_name=\"MAPE\", ascending=True)"
   ]
  },
  {
   "cell_type": "code",
   "execution_count": null,
   "id": "efcf5d74-dcc3-43bf-b3ba-8f4c14307671",
   "metadata": {},
   "outputs": [],
   "source": [
    "plot_residuals(forecast_df=forecast_df, ts=ts)"
   ]
  },
  {
   "cell_type": "code",
   "execution_count": null,
   "id": "5705890a-22b4-4e39-86e2-f72cbf966ab7",
   "metadata": {},
   "outputs": [],
   "source": [
    "prediction_actual_scatter_plot(forecast_df=forecast_df, ts=ts)"
   ]
  },
  {
   "cell_type": "markdown",
   "id": "802e8a6d-1c64-45ec-9300-193071929d9c",
   "metadata": {},
   "source": [
    "# Dump output predictions to file"
   ]
  },
  {
   "cell_type": "code",
   "execution_count": null,
   "id": "7cda5855-ae85-4841-9fbb-8b8aac3f3582",
   "metadata": {},
   "outputs": [],
   "source": [
    "forecast_df[('dummy_segment',      'target')].rename(\"prediction\").to_csv(\"pipeline_v2_out.csv\")"
   ]
  }
 ],
 "metadata": {
  "kernelspec": {
   "display_name": "Python 3 (ipykernel)",
   "language": "python",
   "name": "python3"
  },
  "language_info": {
   "codemirror_mode": {
    "name": "ipython",
    "version": 3
   },
   "file_extension": ".py",
   "mimetype": "text/x-python",
   "name": "python",
   "nbconvert_exporter": "python",
   "pygments_lexer": "ipython3",
   "version": "3.10.13"
  }
 },
 "nbformat": 4,
 "nbformat_minor": 5
}
