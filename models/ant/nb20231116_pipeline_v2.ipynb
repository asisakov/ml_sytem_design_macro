{
 "cells": [
  {
   "cell_type": "code",
   "execution_count": null,
   "id": "d076f687-9f6f-437e-99bb-89a12005fab3",
   "metadata": {},
   "outputs": [],
   "source": [
    "!which python"
   ]
  },
  {
   "cell_type": "code",
   "execution_count": null,
   "id": "aa33a000-e53c-4f5b-8736-878af745d3f7",
   "metadata": {},
   "outputs": [],
   "source": [
    "import matplotlib.pyplot as plt\n",
    "import os\n",
    "import pandas as pd\n",
    "\n",
    "from etna.datasets.tsdataset import TSDataset\n",
    "from etna.metrics import MAE, MSE, SMAPE, MAPE\n",
    "from etna.pipeline import Pipeline\n",
    "from etna.models import ProphetModel\n",
    "from etna.analysis import plot_backtest"
   ]
  },
  {
   "cell_type": "markdown",
   "id": "e3866d84-ba84-49d4-b409-ece0d425dfc3",
   "metadata": {},
   "source": [
    "# Prepare dataset in format \"timestamp - segment - target\""
   ]
  },
  {
   "cell_type": "code",
   "execution_count": null,
   "id": "caec8941-8dad-40d3-87d8-659aea2448f9",
   "metadata": {},
   "outputs": [],
   "source": [
    "FNAME_DATA_SRC = os.path.join(r'../../data/PCPS_06-08-2023 20-05-34-68_timeSeries.csv')\n",
    "assert os.path.isfile(FNAME_DATA_SRC), f\"{FNAME_DATA_SRC=}\"\n",
    "print(f\"Successfully checked: {FNAME_DATA_SRC=}\")\n",
    "\n"
   ]
  },
  {
   "cell_type": "code",
   "execution_count": null,
   "id": "b23fca78-533d-48d7-8475-d5626fad290d",
   "metadata": {},
   "outputs": [],
   "source": [
    "df_src = pd.read_csv(FNAME_DATA_SRC, index_col=False)\n",
    "print(df_src.shape)\n",
    "df_src"
   ]
  },
  {
   "cell_type": "code",
   "execution_count": null,
   "id": "ac964157-168b-413c-92f4-539c8d8dd504",
   "metadata": {},
   "outputs": [],
   "source": [
    "# Transform data to row-level time series\n",
    "# Commodity Code to select (may be wider than actually used for modeling)\n",
    "COLS__INTERESTING_CC = [\n",
    "    \"PALUM\",    # Aluminum\n",
    "    \"PCOAL\",    # Coal index \n",
    "    \"PALLMETA\"  # All Metals Index    \n",
    "]\n",
    "\n",
    "# Unit Code to select\n",
    "UNIT_CODE = \"IX\"\n",
    "\n",
    "df_tmp = df_src[(df_src[\"Commodity Code\"].isin(COLS__INTERESTING_CC)) & (df_src[\"Unit Code\"] == UNIT_CODE)]\n",
    "assert len(df_tmp) == len(COLS__INTERESTING_CC)\n",
    "df_tmp"
   ]
  },
  {
   "cell_type": "code",
   "execution_count": null,
   "id": "ffb21c07-3136-4032-ad69-3ab5c0f8ea6b",
   "metadata": {},
   "outputs": [],
   "source": [
    "# Get names of feature columns (order may be different from ours)\n",
    "CC_LABELS = df_tmp[\"Commodity Code\"].to_list()\n",
    "CC_LABELS"
   ]
  },
  {
   "cell_type": "code",
   "execution_count": null,
   "id": "8f6d5d41-fb12-4347-8335-6c63d0a4c372",
   "metadata": {},
   "outputs": [],
   "source": [
    "# Prepare resulting dataframe (transposed)\n",
    "# Range of dates to select\n",
    "COL__BEGIN_TS_LABEL = \"1990M1\"\n",
    "COL__END_TS_LABEL = \"2023M5\"\n",
    "\n",
    "df_main = df_tmp.loc[:, COL__BEGIN_TS_LABEL:COL__END_TS_LABEL].T\n",
    "\n",
    "# Assign column names\n",
    "df_main.columns = CC_LABELS\n",
    "\n",
    "# Show the result\n",
    "df_main"
   ]
  },
  {
   "cell_type": "code",
   "execution_count": null,
   "id": "2cef6728-74cc-4071-a794-eb8e38826b13",
   "metadata": {},
   "outputs": [],
   "source": [
    "# Convert string dates to datetime. Example: \"1990M1\" -> \"1990-01-01\"\n",
    "df_main[\"timestamp\"] = pd.to_datetime(df_main.index, format=\"%YM%m\")"
   ]
  },
  {
   "cell_type": "code",
   "execution_count": null,
   "id": "e709292b-3ed9-48f6-9f02-bbc3cdb488da",
   "metadata": {},
   "outputs": [],
   "source": [
    "# Create dummy segment (required by ETNA)\n",
    "DUMMY_SEGMENT = \"dummy_segment\"\n",
    "df_main[\"segment\"] = DUMMY_SEGMENT"
   ]
  },
  {
   "cell_type": "code",
   "execution_count": null,
   "id": "1e29a78a-7494-41b4-b39e-555858bbd6d2",
   "metadata": {},
   "outputs": [],
   "source": [
    "df_main[\"target\"] = df_main[\"PALUM\"]"
   ]
  },
  {
   "cell_type": "code",
   "execution_count": null,
   "id": "4022b612-9093-4998-a6c4-b4d0105fd61e",
   "metadata": {},
   "outputs": [],
   "source": [
    "df_main"
   ]
  },
  {
   "cell_type": "markdown",
   "id": "b66919ff-0f0a-49ab-b4ff-4244a3711c7c",
   "metadata": {},
   "source": [
    "# Convert data to TSDataset"
   ]
  },
  {
   "cell_type": "code",
   "execution_count": null,
   "id": "0a938d85-ae2e-41c4-be39-27cbad3c22f3",
   "metadata": {},
   "outputs": [],
   "source": [
    "# From ETNA docs:\n",
    "# Convert pandas dataframe to ETNA Dataset format.\n",
    "# Columns \"timestamp\" and \"segment\" are required.\n",
    "df = TSDataset.to_dataset(df_main)\n",
    "tsd_full = TSDataset(df, freq=\"MS\")"
   ]
  },
  {
   "cell_type": "code",
   "execution_count": null,
   "id": "ad030cca-79fb-4cac-ab01-946264b48545",
   "metadata": {},
   "outputs": [],
   "source": [
    "tsd_full"
   ]
  },
  {
   "cell_type": "code",
   "execution_count": null,
   "id": "acec4b91-1274-4587-9d1f-f3196b48d61c",
   "metadata": {},
   "outputs": [],
   "source": [
    "# T1245\n",
    "tsd_full.head(20)"
   ]
  },
  {
   "cell_type": "code",
   "execution_count": null,
   "id": "cf5a8769-51a4-4662-a9fd-9e515e931822",
   "metadata": {},
   "outputs": [],
   "source": [
    "# T1245\n",
    "tsd_full.tail(26)"
   ]
  },
  {
   "cell_type": "code",
   "execution_count": null,
   "id": "440f2857-0ffd-4cf5-bbe3-3c00dd2d84bc",
   "metadata": {},
   "outputs": [],
   "source": [
    "tsd_full.plot(segments=[DUMMY_SEGMENT])"
   ]
  },
  {
   "cell_type": "markdown",
   "id": "3f26f71b-9425-4776-aea8-8b0bca7eb9c7",
   "metadata": {},
   "source": [
    "# Modeling"
   ]
  },
  {
   "cell_type": "markdown",
   "id": "8fb97687-0ed9-4ac2-ae27-abffa65c1fdc",
   "metadata": {},
   "source": [
    "## Prophet"
   ]
  },
  {
   "cell_type": "code",
   "execution_count": null,
   "id": "3f3b08be-07c7-48b9-84b3-8fc109158c1b",
   "metadata": {},
   "outputs": [],
   "source": [
    "horizon = 1  # Set the horizon for predictions\n",
    "model = ProphetModel()  # Create a model\n",
    "transforms = []  # A list of transforms -  we will not use any of them"
   ]
  },
  {
   "cell_type": "code",
   "execution_count": null,
   "id": "c13ae674-b3cd-49d0-9edb-129bf0bc4fa4",
   "metadata": {},
   "outputs": [],
   "source": [
    "pipeline = Pipeline(model=model, transforms=transforms, horizon=horizon)"
   ]
  },
  {
   "cell_type": "code",
   "execution_count": null,
   "id": "fd0e83ce-f17a-47e7-a20e-258e34d03483",
   "metadata": {},
   "outputs": [],
   "source": [
    "metrics_df, forecast_df, fold_info_df = pipeline.backtest(ts=tsd_full, metrics=[MAE(), MSE(), SMAPE(), MAPE()], n_folds=24)"
   ]
  },
  {
   "cell_type": "code",
   "execution_count": null,
   "id": "db246acc-19de-4237-861f-5e0e50fbe9e8",
   "metadata": {},
   "outputs": [],
   "source": [
    "metrics_df"
   ]
  },
  {
   "cell_type": "code",
   "execution_count": null,
   "id": "6b381ef9-e694-47a8-bd11-236088372e58",
   "metadata": {},
   "outputs": [],
   "source": [
    "metrics_df.MAPE.mean()"
   ]
  },
  {
   "cell_type": "code",
   "execution_count": null,
   "id": "79319655-e2f7-44ec-8aa0-ef24202b7ea3",
   "metadata": {},
   "outputs": [],
   "source": [
    "# NEW 2023-11\n",
    "forecast_df.head(32)"
   ]
  },
  {
   "cell_type": "code",
   "execution_count": null,
   "id": "2d95bc94-c1e0-4137-babd-53c1cfff46d6",
   "metadata": {},
   "outputs": [],
   "source": [
    "fold_info_df.head(10)"
   ]
  },
  {
   "cell_type": "code",
   "execution_count": null,
   "id": "a1ab1e34-a044-47e5-8aa9-8dba7bc76212",
   "metadata": {},
   "outputs": [],
   "source": [
    "plot_backtest(forecast_df, tsd_full, history_len=70)"
   ]
  },
  {
   "cell_type": "code",
   "execution_count": null,
   "id": "38951060-30f0-4482-b6a3-6ad1950596d6",
   "metadata": {},
   "outputs": [],
   "source": [
    "# !!!! (2023-11-27) Проблема - разрыв на графике predict"
   ]
  },
  {
   "cell_type": "markdown",
   "id": "815c99ea-a273-49e1-9ace-27d09bf4b695",
   "metadata": {},
   "source": [
    "## Naive model"
   ]
  },
  {
   "cell_type": "code",
   "execution_count": null,
   "id": "6f872378-0fc4-4dda-a50d-43d8e1d202d0",
   "metadata": {},
   "outputs": [],
   "source": [
    "from etna.models import NaiveModel"
   ]
  },
  {
   "cell_type": "code",
   "execution_count": null,
   "id": "a1a85c7b-e3e8-4459-af9b-f7eb15936f0b",
   "metadata": {},
   "outputs": [],
   "source": [
    "horizon = 1  # Set the horizon for predictions\n",
    "model = NaiveModel(lag=1)  # Create a model\n",
    "transforms = []  # A list of transforms -  we will not use any of them"
   ]
  },
  {
   "cell_type": "code",
   "execution_count": null,
   "id": "0b6c1298-4965-47bb-a286-5cf16c9fad6b",
   "metadata": {},
   "outputs": [],
   "source": [
    "pipeline = Pipeline(model=model, transforms=transforms, horizon=horizon)"
   ]
  },
  {
   "cell_type": "code",
   "execution_count": null,
   "id": "864b6037-2b6d-4ae1-9849-8ea82ad32e9a",
   "metadata": {
    "scrolled": true
   },
   "outputs": [],
   "source": [
    "metrics_df, forecast_df, fold_info_df = pipeline.backtest(ts=tsd_full, metrics=[MAE(), MSE(), SMAPE(), MAPE()], n_folds=24)"
   ]
  },
  {
   "cell_type": "code",
   "execution_count": null,
   "id": "14670050-3aad-48ec-b2d4-e9cf456a3fb2",
   "metadata": {},
   "outputs": [],
   "source": [
    "metrics_df"
   ]
  },
  {
   "cell_type": "code",
   "execution_count": null,
   "id": "628c5905-1cce-471b-81df-98356fe4de2d",
   "metadata": {},
   "outputs": [],
   "source": [
    "metrics_df.MAPE.mean()"
   ]
  },
  {
   "cell_type": "code",
   "execution_count": null,
   "id": "59aeb286-d266-4ec0-8ccf-39741bffb0fd",
   "metadata": {},
   "outputs": [],
   "source": [
    "# NEW 2023-11\n",
    "forecast_df.head(32)"
   ]
  },
  {
   "cell_type": "code",
   "execution_count": null,
   "id": "3db61d56-ab9d-4e74-b87a-16f3ed54dd1f",
   "metadata": {},
   "outputs": [],
   "source": [
    "fold_info_df.head(10)"
   ]
  },
  {
   "cell_type": "code",
   "execution_count": null,
   "id": "6bd396bf-9062-46a1-bd63-b475394c8b85",
   "metadata": {},
   "outputs": [],
   "source": [
    "plot_backtest(forecast_df, tsd_full, history_len=70)"
   ]
  },
  {
   "cell_type": "markdown",
   "id": "4f31c9f2-2ab4-46d7-b929-d882debc23f3",
   "metadata": {},
   "source": [
    "## CatBoost model (ETNA)"
   ]
  },
  {
   "cell_type": "code",
   "execution_count": null,
   "id": "ff72aea3-f86a-4edb-90d9-ec80369d526e",
   "metadata": {},
   "outputs": [],
   "source": [
    "from etna.models import CatBoostMultiSegmentModel"
   ]
  },
  {
   "cell_type": "code",
   "execution_count": null,
   "id": "40ec2bf3-e6e4-4255-a182-e9834801ea22",
   "metadata": {},
   "outputs": [],
   "source": [
    "horizon = 1  # Set the horizon for predictions\n",
    "model = CatBoostMultiSegmentModel(iterations=100, random_state=42)   # Create a model\n",
    "transforms = []  # A list of transforms -  we will not use any of them"
   ]
  },
  {
   "cell_type": "code",
   "execution_count": null,
   "id": "e1668c0a-1bc7-4487-b482-4e1f884f72a5",
   "metadata": {},
   "outputs": [],
   "source": [
    "pipeline = Pipeline(model=model, transforms=transforms, horizon=horizon)"
   ]
  },
  {
   "cell_type": "code",
   "execution_count": null,
   "id": "f7104f05-66dd-4969-a18f-287a25f2b030",
   "metadata": {},
   "outputs": [],
   "source": [
    "%%time\n",
    "metrics_df, forecast_df, fold_info_df = pipeline.backtest(ts=tsd_full, metrics=[MAE(), MSE(), SMAPE(), MAPE()], n_folds=24)"
   ]
  },
  {
   "cell_type": "code",
   "execution_count": null,
   "id": "f882b972-a30c-4f29-9f2b-d972f958ed99",
   "metadata": {},
   "outputs": [],
   "source": [
    "metrics_df"
   ]
  },
  {
   "cell_type": "code",
   "execution_count": null,
   "id": "892a098b-edbe-4df8-88d1-1c3048e33378",
   "metadata": {},
   "outputs": [],
   "source": [
    "metrics_df.MAPE.mean()"
   ]
  },
  {
   "cell_type": "code",
   "execution_count": null,
   "id": "be67ba90-0e7e-4906-a352-242c5f7feb00",
   "metadata": {},
   "outputs": [],
   "source": [
    "# NEW 2023-11\n",
    "forecast_df.head(32)"
   ]
  },
  {
   "cell_type": "code",
   "execution_count": null,
   "id": "97ea6a68-c045-4d35-b8d8-94a60c02ef5b",
   "metadata": {},
   "outputs": [],
   "source": [
    "fold_info_df.head(10)"
   ]
  },
  {
   "cell_type": "code",
   "execution_count": null,
   "id": "4a20ef9e-edeb-4bb7-a6a8-c957f2a61ca7",
   "metadata": {},
   "outputs": [],
   "source": [
    "plot_backtest(forecast_df, tsd_full, history_len=70)"
   ]
  },
  {
   "cell_type": "markdown",
   "id": "b30dfd94-79b8-403e-ad9b-3c1b0544ce9a",
   "metadata": {},
   "source": [
    "# Metrics visualization (from the last model)"
   ]
  },
  {
   "cell_type": "code",
   "execution_count": null,
   "id": "adf000bf-d755-4c79-8240-2c5908343829",
   "metadata": {},
   "outputs": [],
   "source": [
    "from etna.analysis import (\n",
    "    metric_per_segment_distribution_plot,\n",
    "    plot_residuals,\n",
    "    plot_metric_per_segment,\n",
    "    prediction_actual_scatter_plot,\n",
    ")"
   ]
  },
  {
   "cell_type": "code",
   "execution_count": null,
   "id": "be481b99-7ad5-4b2e-af73-19d4d181e0ef",
   "metadata": {},
   "outputs": [],
   "source": [
    "metric_per_segment_distribution_plot(metrics_df=metrics_df, metric_name=\"MAPE\", plot_type=\"box\")"
   ]
  },
  {
   "cell_type": "code",
   "execution_count": null,
   "id": "18cc25b3-505e-487b-8dce-f80818c3a97e",
   "metadata": {},
   "outputs": [],
   "source": [
    "# NEW 2023-11\n",
    "# Check \"mean\" mode\n",
    "metric_per_segment_distribution_plot(metrics_df=metrics_df, metric_name=\"MAPE\", plot_type=\"box\",\n",
    "                                    per_fold_aggregation_mode=\"mean\")"
   ]
  },
  {
   "cell_type": "code",
   "execution_count": null,
   "id": "8c300ede-a23b-4d1a-ad66-5a888e393dd9",
   "metadata": {},
   "outputs": [],
   "source": [
    "plot_metric_per_segment(metrics_df=metrics_df, metric_name=\"MAPE\", ascending=True)"
   ]
  },
  {
   "cell_type": "code",
   "execution_count": null,
   "id": "efcf5d74-dcc3-43bf-b3ba-8f4c14307671",
   "metadata": {},
   "outputs": [],
   "source": [
    "plot_residuals(forecast_df=forecast_df, ts=tsd_full)"
   ]
  },
  {
   "cell_type": "code",
   "execution_count": null,
   "id": "5705890a-22b4-4e39-86e2-f72cbf966ab7",
   "metadata": {},
   "outputs": [],
   "source": [
    "prediction_actual_scatter_plot(forecast_df=forecast_df, ts=tsd_full)"
   ]
  },
  {
   "cell_type": "markdown",
   "id": "802e8a6d-1c64-45ec-9300-193071929d9c",
   "metadata": {},
   "source": [
    "# Dump output predictions to file"
   ]
  },
  {
   "cell_type": "code",
   "execution_count": null,
   "id": "7cda5855-ae85-4841-9fbb-8b8aac3f3582",
   "metadata": {},
   "outputs": [],
   "source": [
    "forecast_df[('dummy_segment', 'target')].rename(\"prediction\").to_csv(\"pipeline_v2_out.csv\")"
   ]
  },
  {
   "cell_type": "markdown",
   "id": "0a3e0a51-e4c1-4a6f-92ff-56a1d5f90286",
   "metadata": {},
   "source": [
    "# Part 2 - from tutorial 04 (regressors)"
   ]
  },
  {
   "cell_type": "code",
   "execution_count": null,
   "id": "cafb5e46-f26d-42a9-a483-c6fe9f51c261",
   "metadata": {},
   "outputs": [],
   "source": [
    "df_main"
   ]
  },
  {
   "cell_type": "code",
   "execution_count": null,
   "id": "1681f7c7-4035-45b4-9e71-45fd7ab9042c",
   "metadata": {},
   "outputs": [],
   "source": [
    "df_main.info()  # Ensure timestamp is in datetime format"
   ]
  },
  {
   "cell_type": "code",
   "execution_count": null,
   "id": "e4b7a50f-f086-463e-a900-ef2bf2ca0457",
   "metadata": {},
   "outputs": [],
   "source": [
    "df_main2 = df_main.copy()\n",
    "df_main2[\"timestamp\"] = df_main2[\"timestamp\"].dt.strftime('%Y-%m-%d')  # TBD T1338: try to rollback to datetime format\n",
    "df_main2.info() "
   ]
  },
  {
   "cell_type": "code",
   "execution_count": null,
   "id": "d27d5c03-aedd-4b04-a26e-b07d38885073",
   "metadata": {},
   "outputs": [],
   "source": [
    "df_main2.head()"
   ]
  },
  {
   "cell_type": "markdown",
   "id": "e3f285a2-22ff-435e-8731-802d879fd4be",
   "metadata": {},
   "source": [
    "## Separate target and features dataset"
   ]
  },
  {
   "cell_type": "code",
   "execution_count": null,
   "id": "53fa3c39-ab01-4fd9-9140-5c8e9635fdac",
   "metadata": {},
   "outputs": [],
   "source": [
    "# Remove the last target for features to be larger than the target (ETNA requirement)\n",
    "tsd_target = TSDataset.to_dataset(df_main2[[\"timestamp\", \"target\", \"segment\"]].iloc[:-1, :])  # TBD 1316\n",
    "tsd_target.tail()"
   ]
  },
  {
   "cell_type": "code",
   "execution_count": null,
   "id": "4d9f69c3-672e-4707-9e7a-a218183b5347",
   "metadata": {},
   "outputs": [],
   "source": [
    "tsd_target.info()"
   ]
  },
  {
   "cell_type": "code",
   "execution_count": null,
   "id": "b4b924fa-6ff8-4a08-b215-807c3ff01a8b",
   "metadata": {},
   "outputs": [],
   "source": [
    "tsd_regressor = TSDataset.to_dataset(df_main2.drop(\"target\", axis=\"columns\"))\n",
    "tsd_regressor.tail()"
   ]
  },
  {
   "cell_type": "code",
   "execution_count": null,
   "id": "bd46dffe-efd8-4187-98bc-ff6180948834",
   "metadata": {},
   "outputs": [],
   "source": [
    "tsd_combined = TSDataset(df=tsd_target, freq=\"MS\", df_exog=tsd_regressor, known_future=\"all\")\n",
    "tsd_combined.head()"
   ]
  },
  {
   "cell_type": "markdown",
   "id": "13f43cef-13b9-4e59-b083-64cf25dd6278",
   "metadata": {},
   "source": [
    "## EDA"
   ]
  },
  {
   "cell_type": "code",
   "execution_count": null,
   "id": "3cc36b93-09b6-4260-bd02-5c580a9f24d2",
   "metadata": {},
   "outputs": [],
   "source": [
    "tsd_combined.plot(column=\"PCOAL\", n_segments=1)"
   ]
  },
  {
   "cell_type": "markdown",
   "id": "e7037e90-4545-4b5a-b0f2-01707aeb1719",
   "metadata": {},
   "source": [
    "## 3. Forecast with regressors <a class=\"anchor\" id=\"chapter3\"></a>\n",
    "\n",
    "We will use LinearPerSegmentModel. It is a simple model that works with regressors.\n",
    "\n",
    "> Note: some models do not work with regressors. In this case, they will warn you about it.\n",
    "\n",
    "We should forecast merchandise sales a year ahead using regressors with information about weather."
   ]
  },
  {
   "cell_type": "code",
   "execution_count": null,
   "id": "27383bc0-e5fa-4444-ba35-94b9ba190857",
   "metadata": {},
   "outputs": [],
   "source": [
    "from etna.models import LinearPerSegmentModel, NaiveModel, CatBoostPerSegmentModel, CatBoostMultiSegmentModel\n",
    "\n",
    "HORIZON = 1\n",
    "FOLDS = 24\n",
    "#model = LinearPerSegmentModel()\n",
    "#model = NaiveModel(lag=1)\n",
    "#model = CatBoostPerSegmentModel(random_state=42, iterations=100)\n",
    "model = CatBoostMultiSegmentModel(random_state=42, iterations=100)"
   ]
  },
  {
   "cell_type": "code",
   "execution_count": null,
   "id": "1d9e9a77-ea51-421b-bb5d-3ea3064d06b0",
   "metadata": {},
   "outputs": [],
   "source": [
    "from etna.transforms import FilterFeaturesTransform\n",
    "\n",
    "from etna.transforms import MeanTransform  # math\n",
    "from etna.transforms import DateFlagsTransform, HolidayTransform  # datetime\n",
    "from etna.transforms import LagTransform  # lags\n",
    "\n",
    "transforms = [\n",
    "    LagTransform(\n",
    "        in_column=\"target\",\n",
    "        lags=list(range(HORIZON, HORIZON + 1)),  # TBD T1420\n",
    "        out_column=\"target_lag\",\n",
    "    ),\n",
    "    LagTransform(in_column=\"PCOAL\", lags=list(range(1, 3)), out_column=\"tavg_lag\"),\n",
    "    # MeanTransform(in_column=\"tavg\", window=7, out_column=\"tavg_mean\"),\n",
    "    # MeanTransform(\n",
    "    #     in_column=\"target_lag_365\",\n",
    "    #     out_column=\"target_mean\",\n",
    "    #     window=104,\n",
    "    #     seasonality=7,\n",
    "    # ),\n",
    "    # DateFlagsTransform(\n",
    "    #     day_number_in_week=True,\n",
    "    #     day_number_in_month=True,\n",
    "    #     is_weekend=True,\n",
    "    #     special_days_in_week=[4],\n",
    "    #     out_column=\"date_flag\",\n",
    "    # ),\n",
    "    # HolidayTransform(iso_code=\"SWE\", out_column=\"SWE_holidays\"),\n",
    "    # HolidayTransform(iso_code=\"NOR\", out_column=\"NOR_holidays\"),\n",
    "    # HolidayTransform(iso_code=\"FIN\", out_column=\"FIN_holidays\"),\n",
    "    # LagTransform(\n",
    "    #     in_column=\"SWE_holidays\",\n",
    "    #     lags=list(range(2, 6)),\n",
    "    #     out_column=\"SWE_holidays_lag\",\n",
    "    # ),\n",
    "    # LagTransform(\n",
    "    #     in_column=\"NOR_holidays\",\n",
    "    #     lags=list(range(2, 6)),\n",
    "    #     out_column=\"NOR_holidays_lag\",\n",
    "    # ),\n",
    "    # LagTransform(\n",
    "    #     in_column=\"FIN_holidays\",\n",
    "    #     lags=list(range(2, 6)),\n",
    "    #     out_column=\"FIN_holidays_lag\",\n",
    "    # ),\n",
    "    FilterFeaturesTransform(exclude=[\"PALUM\"]),\n",
    "]"
   ]
  },
  {
   "cell_type": "code",
   "execution_count": null,
   "id": "00f26b00-e1e7-4b3a-a002-6384292ea653",
   "metadata": {},
   "outputs": [],
   "source": [
    "from etna.pipeline import Pipeline\n",
    "\n",
    "pipeline = Pipeline(model=model, transforms=transforms, horizon=HORIZON)"
   ]
  },
  {
   "cell_type": "code",
   "execution_count": null,
   "id": "57f24e7e-25f6-43de-b00b-703abcfbd850",
   "metadata": {},
   "outputs": [],
   "source": [
    "%%time\n",
    "from etna.metrics import SMAPE\n",
    "\n",
    "metrics, forecasts, _ = pipeline.backtest(tsd_combined, metrics=[MAPE(), SMAPE()], aggregate_metrics=True, n_folds=FOLDS)"
   ]
  },
  {
   "cell_type": "code",
   "execution_count": null,
   "id": "7e180c53-99a8-4dc2-85db-b5639eb28450",
   "metadata": {},
   "outputs": [],
   "source": [
    "metrics"
   ]
  },
  {
   "cell_type": "code",
   "execution_count": null,
   "id": "7442ffd2-cac4-42f3-875f-e4901874ffca",
   "metadata": {},
   "outputs": [],
   "source": [
    "from etna.analysis import plot_backtest\n",
    "\n",
    "plot_backtest(forecasts, tsd_combined, history_len=12)"
   ]
  },
  {
   "cell_type": "code",
   "execution_count": null,
   "id": "76deafee-3c00-49c8-8c72-3d412576bb5d",
   "metadata": {},
   "outputs": [],
   "source": [
    "# 6.591814 - Linear model\n",
    "# 6.099095 - CB(100) CatBoostPerSegmentModel\n",
    "# 6.099095 - CB(100) CatBoostMultiSegmentModel\n",
    "\n",
    "# FOLDS=1, HORIZON=24\n",
    "# 9.67797 - CB(100) - CatBoostPerSegmentModel\n",
    "# 9.67797 - CB(100) - CatBoostMultiSegmentModel"
   ]
  }
 ],
 "metadata": {
  "kernelspec": {
   "display_name": "Python 3 (ipykernel)",
   "language": "python",
   "name": "python3"
  },
  "language_info": {
   "codemirror_mode": {
    "name": "ipython",
    "version": 3
   },
   "file_extension": ".py",
   "mimetype": "text/x-python",
   "name": "python",
   "nbconvert_exporter": "python",
   "pygments_lexer": "ipython3",
   "version": "3.10.13"
  }
 },
 "nbformat": 4,
 "nbformat_minor": 5
}
