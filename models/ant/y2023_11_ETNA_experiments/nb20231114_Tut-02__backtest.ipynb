{
 "cells": [
  {
   "cell_type": "markdown",
   "id": "eb837376",
   "metadata": {},
   "source": [
    "# Backtest: validation on historical data\n",
    "\n",
    "<a href=\"https://mybinder.org/v2/gh/tinkoff-ai/etna/master?filepath=examples/backtest.ipynb\">\n",
    "    <img src=\"https://mybinder.org/badge_logo.svg\"  align='left'>\n",
    "</a>"
   ]
  },
  {
   "cell_type": "markdown",
   "id": "7c897a36",
   "metadata": {},
   "source": [
    "This notebook contains the simple examples of time series validation using backtest module of ETNA library.\n",
    "\n",
    "**Table of Contents**\n",
    "\n",
    "* [What is backtest and how it works](#chapter1)  \n",
    "* [How to run a validation](#chapter2)\n",
    "* [Backtest with FoldMask](#chapter3)\n",
    "* [Validation visualisation](#chapter4)\n",
    "* [Metrics visualisation](#chapter5)"
   ]
  },
  {
   "cell_type": "code",
   "execution_count": null,
   "id": "59a375fd",
   "metadata": {},
   "outputs": [],
   "source": [
    "import pandas as pd\n",
    "import matplotlib.pyplot as plt\n",
    "\n",
    "from etna.datasets.tsdataset import TSDataset\n",
    "from etna.metrics import MAE\n",
    "from etna.metrics import MSE\n",
    "from etna.metrics import SMAPE\n",
    "from etna.pipeline import Pipeline\n",
    "from etna.models import ProphetModel\n",
    "from etna.analysis import plot_backtest"
   ]
  },
  {
   "cell_type": "markdown",
   "id": "98954e89",
   "metadata": {},
   "source": [
    "### 1. What is backtest and how it works <a class=\"anchor\" id=\"chapter1\"></a>"
   ]
  },
  {
   "cell_type": "markdown",
   "id": "76d55452",
   "metadata": {},
   "source": [
    "Backtest is a predictions and validation pipeline build on historical data to make a legitimate retrotest of your model.\n",
    "\n",
    "<b>How does it work?</b>\n",
    "\n",
    "When constructing a forecast using Models and further evaluating the prediction metrics, we measure the quality at one time interval, designated as test.\n",
    "\n",
    "Backtest allows you to simulate how the model would work in the past:\n",
    "\n",
    "* selects a period of time in the past\n",
    "\n",
    "* builds a model using the selected interval as a training sample\n",
    "\n",
    "* predicts the value on the test interval and calculates metrics.\n",
    "\n",
    "The image shows a plot of the backtest pipeline with `n_folds = 3`."
   ]
  },
  {
   "cell_type": "code",
   "execution_count": null,
   "id": "d156218d",
   "metadata": {
    "ExecuteTime": {
     "end_time": "2021-06-25T14:24:21.160357Z",
     "start_time": "2021-06-25T14:24:20.715890Z"
    }
   },
   "outputs": [],
   "source": [
    "img = plt.imread(\"./assets/backtest/backtest.jpg\")\n",
    "plt.figure(figsize=(15, 10))\n",
    "plt.axis(\"off\")\n",
    "_ = plt.imshow(img)"
   ]
  },
  {
   "cell_type": "markdown",
   "id": "9cfea637",
   "metadata": {},
   "source": [
    "Below we will call a fold the train + test pair, for which training and forecasting is performed."
   ]
  },
  {
   "cell_type": "code",
   "execution_count": null,
   "id": "db1cf7b8",
   "metadata": {},
   "outputs": [],
   "source": [
    "df = pd.read_csv(\"./data/example_dataset.csv\")\n",
    "df[\"timestamp\"] = pd.to_datetime(df[\"timestamp\"])\n",
    "df = df.loc[df.segment == \"segment_a\"]\n",
    "df.head()"
   ]
  },
  {
   "cell_type": "code",
   "execution_count": null,
   "id": "af890121-f27c-4c3d-9885-3e99cce12a13",
   "metadata": {},
   "outputs": [],
   "source": [
    "df.info()"
   ]
  },
  {
   "cell_type": "markdown",
   "id": "f792fcd5",
   "metadata": {},
   "source": [
    "Our library works with the special data structure TSDataset. So, before starting the EDA, we need to convert the classical DataFrame to TSDataset."
   ]
  },
  {
   "cell_type": "code",
   "execution_count": null,
   "id": "163fbe68",
   "metadata": {},
   "outputs": [],
   "source": [
    "df = TSDataset.to_dataset(df)\n",
    "ts = TSDataset(df, freq=\"D\")"
   ]
  },
  {
   "cell_type": "code",
   "execution_count": null,
   "id": "addccc83-1eaf-44be-b51e-a8739509240b",
   "metadata": {},
   "outputs": [],
   "source": [
    "ts"
   ]
  },
  {
   "cell_type": "markdown",
   "id": "f72a10ab",
   "metadata": {},
   "source": [
    "#### Let's get a look on series"
   ]
  },
  {
   "cell_type": "code",
   "execution_count": null,
   "id": "737372fc",
   "metadata": {},
   "outputs": [],
   "source": [
    "ts.plot(segments=[\"segment_a\"])"
   ]
  },
  {
   "cell_type": "markdown",
   "id": "a4edf323",
   "metadata": {},
   "source": [
    "### 2. How to run a validation <a class=\"anchor\" id=\"chapter2\"></a>"
   ]
  },
  {
   "cell_type": "markdown",
   "id": "7f83f9c6",
   "metadata": {},
   "source": [
    "For an easy start let's create a Prophet model"
   ]
  },
  {
   "cell_type": "code",
   "execution_count": null,
   "id": "cf6e7d60",
   "metadata": {},
   "outputs": [],
   "source": [
    "horizon = 31  # Set the horizon for predictions\n",
    "model = ProphetModel()  # Create a model\n",
    "transforms = []  # A list of transforms -  we will not use any of them"
   ]
  },
  {
   "cell_type": "markdown",
   "id": "0c548b69",
   "metadata": {},
   "source": [
    "### `Pipeline` <a class=\"anchor\" id=\"section_2_1\"></a>"
   ]
  },
  {
   "cell_type": "markdown",
   "id": "e52d04ab",
   "metadata": {},
   "source": [
    "Now let's create an instance of `Pipeline`."
   ]
  },
  {
   "cell_type": "code",
   "execution_count": null,
   "id": "a8f3318e",
   "metadata": {},
   "outputs": [],
   "source": [
    "pipeline = Pipeline(model=model, transforms=transforms, horizon=horizon)"
   ]
  },
  {
   "cell_type": "markdown",
   "id": "3ef2ab8a",
   "metadata": {},
   "source": [
    "We are going to run `backtest` method for it. As a result, three dataframes will be returned: \n",
    "* dataframe with metrics for each fold and each segment, \n",
    "* dataframe with predictions, \n",
    "* dataframe with information about folds."
   ]
  },
  {
   "cell_type": "code",
   "execution_count": null,
   "id": "89ddaca6",
   "metadata": {},
   "outputs": [],
   "source": [
    "metrics_df, forecast_df, fold_info_df = pipeline.backtest(ts=ts, metrics=[MAE(), MSE(), SMAPE()])"
   ]
  },
  {
   "cell_type": "code",
   "execution_count": null,
   "id": "3d5d1914",
   "metadata": {
    "ExecuteTime": {
     "end_time": "2021-06-25T14:24:22.756309Z",
     "start_time": "2021-06-25T14:24:22.745090Z"
    },
    "scrolled": true
   },
   "outputs": [],
   "source": [
    "metrics_df.head()"
   ]
  },
  {
   "cell_type": "code",
   "execution_count": null,
   "id": "4c28d383-0be9-4116-adf9-e51d77340cf7",
   "metadata": {},
   "outputs": [],
   "source": [
    "# NEW 2023-11\n",
    "forecast_df.head(32)"
   ]
  },
  {
   "cell_type": "code",
   "execution_count": null,
   "id": "0fd31a93",
   "metadata": {
    "ExecuteTime": {
     "end_time": "2021-06-25T14:24:22.878475Z",
     "start_time": "2021-06-25T14:24:22.868922Z"
    }
   },
   "outputs": [],
   "source": [
    "fold_info_df.head()"
   ]
  },
  {
   "cell_type": "code",
   "execution_count": null,
   "id": "82c09c5a-6d83-4534-b4b8-c26ca8c72246",
   "metadata": {},
   "outputs": [],
   "source": [
    "# NEW 2023-11\n",
    "# Train + Test: \n",
    "# 6M + 1M\n",
    "# 7M + 1M\n",
    "# ..."
   ]
  },
  {
   "cell_type": "markdown",
   "id": "6833ae10",
   "metadata": {},
   "source": [
    "You can additionally get the metrics averaged over folds:"
   ]
  },
  {
   "cell_type": "code",
   "execution_count": null,
   "id": "80f0a163",
   "metadata": {
    "pycharm": {
     "name": "#%%\n"
    }
   },
   "outputs": [],
   "source": [
    "metrics_df, forecast_df, fold_info_df = pipeline.backtest(\n",
    "    ts=ts, metrics=[MAE(), MSE(), SMAPE()], aggregate_metrics=True\n",
    ")"
   ]
  },
  {
   "cell_type": "code",
   "execution_count": null,
   "id": "be1c757f",
   "metadata": {
    "ExecuteTime": {
     "end_time": "2021-06-25T14:24:22.756309Z",
     "start_time": "2021-06-25T14:24:22.745090Z"
    }
   },
   "outputs": [],
   "source": [
    "metrics_df.head()"
   ]
  },
  {
   "cell_type": "code",
   "execution_count": null,
   "id": "087746fc",
   "metadata": {
    "ExecuteTime": {
     "end_time": "2021-06-25T14:24:22.813834Z",
     "start_time": "2021-06-25T14:24:22.805147Z"
    }
   },
   "outputs": [],
   "source": [
    "forecast_df.head()"
   ]
  },
  {
   "cell_type": "code",
   "execution_count": null,
   "id": "25006752",
   "metadata": {
    "ExecuteTime": {
     "end_time": "2021-06-25T14:24:22.878475Z",
     "start_time": "2021-06-25T14:24:22.868922Z"
    }
   },
   "outputs": [],
   "source": [
    "fold_info_df.head()"
   ]
  },
  {
   "cell_type": "code",
   "execution_count": null,
   "id": "856c4ce8-f049-4cb6-9383-663aea4728ac",
   "metadata": {},
   "outputs": [],
   "source": [
    "# NEW 2023-11\n",
    "#raise KeyboardInterrupt"
   ]
  },
  {
   "cell_type": "markdown",
   "id": "b586379d",
   "metadata": {},
   "source": [
    "### 3. Backtest with fold masks<a class=\"anchor\" id=\"chapter3\"></a>"
   ]
  },
  {
   "cell_type": "markdown",
   "id": "0e306b7b",
   "metadata": {},
   "source": [
    "You can use your backtest strategies using `FoldMask`. In order to make a `FoldMask`, you need to specify `first_train_timestamp`, `last_train_timestamp`, `target_timestamps`. Then you need to pass a list of masks as the `n_folds` parameter to the `pipeline.backtest`.\n",
    "\n",
    "Consider 3 strategies similar to `SlidingWindowSplitter`, `ExpandingWindowSplitter` and `SingleWindowSplitter` from `sktime`."
   ]
  },
  {
   "cell_type": "markdown",
   "id": "c8c2f8fc",
   "metadata": {},
   "source": [
    "#### `ExpandingWindowSplitter` \n",
    "\n",
    "For this backtest strategy you can use our backtest with `mode=\"expand\"`."
   ]
  },
  {
   "cell_type": "code",
   "execution_count": null,
   "id": "07c43ab2",
   "metadata": {},
   "outputs": [],
   "source": [
    "# metrics_df, _, _ = pipeline.backtest(ts=ts, metrics=[MAE(), MSE(), SMAPE()], n_folds=3, mode=\"expand\")\n",
    "metrics_df, _, fold_info_df = pipeline.backtest(ts=ts, metrics=[MAE(), MSE(), SMAPE()], n_folds=3, mode=\"expand\")"
   ]
  },
  {
   "cell_type": "code",
   "execution_count": null,
   "id": "139dbf56",
   "metadata": {},
   "outputs": [],
   "source": [
    "metrics_df"
   ]
  },
  {
   "cell_type": "code",
   "execution_count": null,
   "id": "8e997538-19c1-4cf3-9595-0129b098ae15",
   "metadata": {},
   "outputs": [],
   "source": [
    "fold_info_df"
   ]
  },
  {
   "cell_type": "markdown",
   "id": "00607622",
   "metadata": {},
   "source": [
    "#### `SingleWindowSplitter`"
   ]
  },
  {
   "cell_type": "markdown",
   "id": "681bedf7",
   "metadata": {},
   "source": [
    "For this backtest strategy you can use our backtest with parameter `n_folds=1` or if you need specific window from your dataset you can create a mask with `FoldMask`."
   ]
  },
  {
   "cell_type": "code",
   "execution_count": null,
   "id": "a5a06147",
   "metadata": {},
   "outputs": [],
   "source": [
    "from etna.pipeline import FoldMask\n",
    "import numpy as np"
   ]
  },
  {
   "cell_type": "code",
   "execution_count": null,
   "id": "f01449c3",
   "metadata": {},
   "outputs": [],
   "source": [
    "# 1 Without mask\n",
    "\n",
    "#metrics_df, _, _ = pipeline.backtest(ts=ts, metrics=[MAE(), MSE(), SMAPE()], n_folds=1)\n",
    "metrics_df, _, fold_info_df = pipeline.backtest(ts=ts, metrics=[MAE(), MSE(), SMAPE()], n_folds=1)\n",
    "metrics_df"
   ]
  },
  {
   "cell_type": "code",
   "execution_count": null,
   "id": "faf337c0-216b-4898-b867-69f5acaedc18",
   "metadata": {},
   "outputs": [],
   "source": [
    "fold_info_df"
   ]
  },
  {
   "cell_type": "code",
   "execution_count": null,
   "id": "44aee1b6",
   "metadata": {},
   "outputs": [],
   "source": [
    "# 2 With specific mask\n",
    "window_size = 85\n",
    "first_train_timestamp = ts.index.min() + np.timedelta64(100, \"D\")\n",
    "last_train_timestamp = first_train_timestamp + np.timedelta64(window_size, \"D\")\n",
    "target_timestamps = pd.date_range(start=last_train_timestamp + np.timedelta64(1, \"D\"), periods=horizon)\n",
    "mask = FoldMask(\n",
    "    first_train_timestamp=first_train_timestamp,\n",
    "    last_train_timestamp=last_train_timestamp,\n",
    "    target_timestamps=target_timestamps,\n",
    ")"
   ]
  },
  {
   "cell_type": "code",
   "execution_count": null,
   "id": "8e37abc5",
   "metadata": {},
   "outputs": [],
   "source": [
    "## 1 Without mask\n",
    "# NEW 2023-11: With mask\n",
    "\n",
    "#metrics_df, _, _ = pipeline.backtest(ts=ts, metrics=[MAE(), MSE(), SMAPE()], n_folds=[mask])\n",
    "metrics_df, _, fold_info_df = pipeline.backtest(ts=ts, metrics=[MAE(), MSE(), SMAPE()], n_folds=[mask])\n",
    "metrics_df"
   ]
  },
  {
   "cell_type": "code",
   "execution_count": null,
   "id": "152bc473-1f7b-45a2-a207-8dcfc59d1e90",
   "metadata": {},
   "outputs": [],
   "source": [
    "fold_info_df"
   ]
  },
  {
   "cell_type": "markdown",
   "id": "6d2e1168",
   "metadata": {},
   "source": [
    "#### `SlidingWindowSplitter`"
   ]
  },
  {
   "cell_type": "markdown",
   "id": "a86e73b8",
   "metadata": {},
   "source": [
    "To implement this backtest strategy you need to create a list of fold masks with `FoldMask`."
   ]
  },
  {
   "cell_type": "code",
   "execution_count": null,
   "id": "712dc3c5",
   "metadata": {},
   "outputs": [],
   "source": [
    "n_folds = 3"
   ]
  },
  {
   "cell_type": "code",
   "execution_count": null,
   "id": "dda0a3ef",
   "metadata": {},
   "outputs": [],
   "source": [
    "def sliding_window_masks(window_size, n_folds):\n",
    "    masks = []\n",
    "    for n in range(n_folds):\n",
    "        first_train_timestamp = ts.index.min() + np.timedelta64(100, \"D\") + np.timedelta64(n, \"D\")\n",
    "        last_train_timestamp = first_train_timestamp + np.timedelta64(window_size, \"D\")\n",
    "        target_timestamps = pd.date_range(start=last_train_timestamp + np.timedelta64(1, \"D\"), periods=horizon)\n",
    "        mask = FoldMask(\n",
    "            first_train_timestamp=first_train_timestamp,\n",
    "            last_train_timestamp=last_train_timestamp,\n",
    "            target_timestamps=target_timestamps,\n",
    "        )\n",
    "        masks.append(mask)\n",
    "    return masks"
   ]
  },
  {
   "cell_type": "code",
   "execution_count": null,
   "id": "bba18bc5",
   "metadata": {},
   "outputs": [],
   "source": [
    "masks = sliding_window_masks(window_size=window_size, n_folds=n_folds)\n",
    "#metrics_df, _, _ = pipeline.backtest(ts=ts, metrics=[MAE(), MSE(), SMAPE()], n_folds=masks)\n",
    "metrics_df, _, fold_info_df = pipeline.backtest(ts=ts, metrics=[MAE(), MSE(), SMAPE()], n_folds=masks)"
   ]
  },
  {
   "cell_type": "code",
   "execution_count": null,
   "id": "2dcfd868",
   "metadata": {},
   "outputs": [],
   "source": [
    "metrics_df"
   ]
  },
  {
   "cell_type": "code",
   "execution_count": null,
   "id": "ccaf2a4f-b106-4b84-870e-0850e33d78fc",
   "metadata": {},
   "outputs": [],
   "source": [
    "# NEW 2023-11\n",
    "fold_info_df"
   ]
  },
  {
   "cell_type": "markdown",
   "id": "63a327e1",
   "metadata": {},
   "source": [
    "### 4. Validation visualisation <a class=\"anchor\" id=\"chapter4\"></a>"
   ]
  },
  {
   "cell_type": "code",
   "execution_count": null,
   "id": "bfc22cac",
   "metadata": {
    "ExecuteTime": {
     "end_time": "2021-06-25T14:28:18.264815Z",
     "start_time": "2021-06-25T14:28:17.999552Z"
    }
   },
   "outputs": [],
   "source": [
    "plot_backtest(forecast_df, ts)"
   ]
  },
  {
   "cell_type": "markdown",
   "id": "b916568e",
   "metadata": {},
   "source": [
    "To visualize the train part, you can specify the `history_len` parameter. "
   ]
  },
  {
   "cell_type": "code",
   "execution_count": null,
   "id": "b0fd55d9",
   "metadata": {
    "ExecuteTime": {
     "end_time": "2021-06-25T14:32:07.875780Z",
     "start_time": "2021-06-25T14:32:07.592652Z"
    }
   },
   "outputs": [],
   "source": [
    "plot_backtest(forecast_df, ts, history_len=70)"
   ]
  },
  {
   "cell_type": "markdown",
   "id": "d2474eeb",
   "metadata": {},
   "source": [
    "### 5. Metrics visualization  <a class=\"anchor\" id=\"chapter5\"></a>"
   ]
  },
  {
   "cell_type": "markdown",
   "id": "7f3ef5e1",
   "metadata": {},
   "source": [
    "In this section we will analyze the backtest results from the different point of views. "
   ]
  },
  {
   "cell_type": "code",
   "execution_count": null,
   "id": "d429830c",
   "metadata": {},
   "outputs": [],
   "source": [
    "from etna.analysis import (\n",
    "    metric_per_segment_distribution_plot,\n",
    "    plot_residuals,\n",
    "    plot_metric_per_segment,\n",
    "    prediction_actual_scatter_plot,\n",
    ")"
   ]
  },
  {
   "cell_type": "code",
   "execution_count": null,
   "id": "09ed6f7a",
   "metadata": {},
   "outputs": [],
   "source": [
    "df = pd.read_csv(\"./data/example_dataset.csv\")\n",
    "df[\"timestamp\"] = pd.to_datetime(df[\"timestamp\"])\n",
    "df = TSDataset.to_dataset(df)\n",
    "ts_all = TSDataset(df, freq=\"D\")"
   ]
  },
  {
   "cell_type": "code",
   "execution_count": null,
   "id": "e88128e9",
   "metadata": {},
   "outputs": [],
   "source": [
    "metrics_df, forecast_df, fold_info_df = pipeline.backtest(ts=ts_all, metrics=[MAE(), MSE(), SMAPE()])"
   ]
  },
  {
   "cell_type": "markdown",
   "id": "9a262ca0",
   "metadata": {},
   "source": [
    "Let's look at the distribution of the SMAPE metric by folds. You can set `type_plot` as `box`, `violin` or `hist`."
   ]
  },
  {
   "cell_type": "code",
   "execution_count": null,
   "id": "8e9387db-2780-427c-bf80-fc0b4a3d7cb3",
   "metadata": {},
   "outputs": [],
   "source": [
    "metrics_df"
   ]
  },
  {
   "cell_type": "code",
   "execution_count": null,
   "id": "aae8537c",
   "metadata": {},
   "outputs": [],
   "source": [
    "metric_per_segment_distribution_plot(metrics_df=metrics_df, metric_name=\"SMAPE\", plot_type=\"box\")"
   ]
  },
  {
   "cell_type": "code",
   "execution_count": null,
   "id": "606b4d0c-9979-461c-a652-3426978b31b7",
   "metadata": {},
   "outputs": [],
   "source": [
    "# NEW 2023-11\n",
    "# Check \"mean\" mode\n",
    "metric_per_segment_distribution_plot(metrics_df=metrics_df, metric_name=\"SMAPE\", plot_type=\"box\",\n",
    "                                    per_fold_aggregation_mode=\"mean\")"
   ]
  },
  {
   "cell_type": "markdown",
   "id": "05c8447b",
   "metadata": {},
   "source": [
    "Let's look at the SMAPE metric by segments"
   ]
  },
  {
   "cell_type": "code",
   "execution_count": null,
   "id": "604e8982",
   "metadata": {},
   "outputs": [],
   "source": [
    "plot_metric_per_segment(metrics_df=metrics_df, metric_name=\"SMAPE\", ascending=True)"
   ]
  },
  {
   "cell_type": "markdown",
   "id": "de2f2dc2",
   "metadata": {},
   "source": [
    "Now let's look at the residuals of the model predictions from the backtest. Analysis of the residuals can help establish a dependency in the data that our model was not able to find. This way we can add features or improve the model or make sure that there is no dependency in the residuals. Also, you can visualize the residuals not only by timestamp but by any feature."
   ]
  },
  {
   "cell_type": "code",
   "execution_count": null,
   "id": "13f6ba42",
   "metadata": {},
   "outputs": [],
   "source": [
    "plot_residuals(forecast_df=forecast_df, ts=ts_all)"
   ]
  },
  {
   "cell_type": "code",
   "execution_count": null,
   "id": "22e2dcf7",
   "metadata": {},
   "outputs": [],
   "source": [
    "prediction_actual_scatter_plot(forecast_df=forecast_df, ts=ts_all)"
   ]
  },
  {
   "cell_type": "markdown",
   "id": "3a82fb3d",
   "metadata": {},
   "source": [
    "That's all for this notebook. More features you can find in our documentation!"
   ]
  }
 ],
 "metadata": {
  "hide_input": false,
  "kernelspec": {
   "display_name": "Python 3 (ipykernel)",
   "language": "python",
   "name": "python3"
  },
  "language_info": {
   "codemirror_mode": {
    "name": "ipython",
    "version": 3
   },
   "file_extension": ".py",
   "mimetype": "text/x-python",
   "name": "python",
   "nbconvert_exporter": "python",
   "pygments_lexer": "ipython3",
   "version": "3.10.13"
  },
  "toc": {
   "base_numbering": 1,
   "nav_menu": {},
   "number_sections": true,
   "sideBar": true,
   "skip_h1_title": false,
   "title_cell": "Table of Contents",
   "title_sidebar": "Contents",
   "toc_cell": false,
   "toc_position": {},
   "toc_section_display": true,
   "toc_window_display": false
  },
  "varInspector": {
   "cols": {
    "lenName": 16,
    "lenType": 16,
    "lenVar": 40
   },
   "kernels_config": {
    "python": {
     "delete_cmd_postfix": "",
     "delete_cmd_prefix": "del ",
     "library": "var_list.py",
     "varRefreshCmd": "print(var_dic_list())"
    },
    "r": {
     "delete_cmd_postfix": ") ",
     "delete_cmd_prefix": "rm(",
     "library": "var_list.r",
     "varRefreshCmd": "cat(var_dic_list()) "
    }
   },
   "types_to_exclude": [
    "module",
    "function",
    "builtin_function_or_method",
    "instance",
    "_Feature"
   ],
   "window_display": false
  }
 },
 "nbformat": 4,
 "nbformat_minor": 5
}
