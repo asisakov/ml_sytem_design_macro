{
 "cells": [
  {
   "cell_type": "code",
   "execution_count": null,
   "id": "c5144f23",
   "metadata": {
    "ExecuteTime": {
     "end_time": "2023-11-13T09:03:59.295086Z",
     "start_time": "2023-11-13T09:03:57.948099Z"
    }
   },
   "outputs": [],
   "source": [
    "import pandas as pd\n",
    "from etna.datasets import TSDataset\n",
    "\n",
    "# Read the data\n",
    "#df = pd.read_csv(\"examples/data/example_dataset.csv\")\n",
    "df = pd.read_csv(\"example_dataset.csv\")"
   ]
  },
  {
   "cell_type": "code",
   "execution_count": null,
   "id": "fce168af",
   "metadata": {},
   "outputs": [],
   "source": [
    "!python -V"
   ]
  },
  {
   "cell_type": "code",
   "execution_count": null,
   "id": "5367b926-30d4-4cf1-990c-13262a5d9af0",
   "metadata": {},
   "outputs": [],
   "source": [
    "df"
   ]
  },
  {
   "cell_type": "code",
   "execution_count": null,
   "id": "52a483a2-50a4-4971-990d-21fd4b64d2c0",
   "metadata": {},
   "outputs": [],
   "source": [
    "# Create a TSDataset\n",
    "df = TSDataset.to_dataset(df)"
   ]
  },
  {
   "cell_type": "code",
   "execution_count": null,
   "id": "8e54378e-6d86-4be6-adec-e00dd4f2965d",
   "metadata": {},
   "outputs": [],
   "source": [
    "df"
   ]
  },
  {
   "cell_type": "code",
   "execution_count": null,
   "id": "b550ae22-c5dc-4097-8675-69d2776dcf33",
   "metadata": {},
   "outputs": [],
   "source": [
    "type(df)"
   ]
  },
  {
   "cell_type": "code",
   "execution_count": null,
   "id": "ba9acd43-c6ee-4b24-8ecf-8d28d9df8e44",
   "metadata": {},
   "outputs": [],
   "source": [
    "df.columns"
   ]
  },
  {
   "cell_type": "code",
   "execution_count": null,
   "id": "4b2283e3-034c-4a51-9f20-823598a81fcd",
   "metadata": {},
   "outputs": [],
   "source": [
    "ts = TSDataset(df, freq=\"D\")"
   ]
  },
  {
   "cell_type": "code",
   "execution_count": null,
   "id": "079d822c-522a-4247-9537-55834809eaab",
   "metadata": {},
   "outputs": [],
   "source": [
    "ts"
   ]
  },
  {
   "cell_type": "code",
   "execution_count": null,
   "id": "e9180fcc-0932-4582-a6b0-1164f364e409",
   "metadata": {},
   "outputs": [],
   "source": [
    "type(ts)"
   ]
  },
  {
   "cell_type": "code",
   "execution_count": null,
   "id": "e2dd9fa3-095a-49fc-bda1-e1d2ce88673e",
   "metadata": {},
   "outputs": [],
   "source": [
    "# Choose a horizon\n",
    "HORIZON = 14\n",
    "\n",
    "# Make train/test split\n",
    "train_ts, test_ts = ts.train_test_split(test_size=HORIZON)"
   ]
  },
  {
   "cell_type": "code",
   "execution_count": null,
   "id": "9a2423e6-7add-436e-a91d-b7dc59e033bc",
   "metadata": {},
   "outputs": [],
   "source": [
    "train_ts"
   ]
  },
  {
   "cell_type": "code",
   "execution_count": null,
   "id": "b73a2e9a-3ca9-4bc8-965f-0ea24f813b2d",
   "metadata": {},
   "outputs": [],
   "source": [
    "test_ts"
   ]
  },
  {
   "cell_type": "code",
   "execution_count": null,
   "id": "c4c2fb65-060f-41d7-a11a-4e78a6f7fdc8",
   "metadata": {},
   "outputs": [],
   "source": [
    "from etna.models import LinearMultiSegmentModel"
   ]
  },
  {
   "cell_type": "code",
   "execution_count": null,
   "id": "fa2fd672-72b4-4164-999b-fbf155b6aedb",
   "metadata": {},
   "outputs": [],
   "source": [
    "from etna.models import NaiveModel"
   ]
  },
  {
   "cell_type": "code",
   "execution_count": null,
   "id": "788d2406-e59a-42ac-8afe-056858746a86",
   "metadata": {},
   "outputs": [],
   "source": [
    "from etna.models import CatBoostMultiSegmentModel\n",
    "from etna.transforms import DateFlagsTransform\n",
    "from etna.transforms import DensityOutliersTransform\n",
    "from etna.transforms import FourierTransform\n",
    "from etna.transforms import LagTransform\n",
    "from etna.transforms import LinearTrendTransform\n",
    "from etna.transforms import MeanTransform\n",
    "from etna.transforms import SegmentEncoderTransform\n",
    "from etna.transforms import TimeSeriesImputerTransform\n",
    "from etna.transforms import TrendTransform"
   ]
  },
  {
   "cell_type": "code",
   "execution_count": null,
   "id": "ceefa609-99f2-4f71-9e0d-27dc2c5d5f87",
   "metadata": {},
   "outputs": [],
   "source": [
    "# Prepare transforms\n",
    "transforms = [\n",
    "    DensityOutliersTransform(in_column=\"target\", distance_coef=3.0),\n",
    "    TimeSeriesImputerTransform(in_column=\"target\", strategy=\"forward_fill\"),\n",
    "    LinearTrendTransform(in_column=\"target\"),\n",
    "    TrendTransform(in_column=\"target\", out_column=\"trend\"),\n",
    "    LagTransform(in_column=\"target\", lags=list(range(HORIZON, 122)), out_column=\"target_lag\"),\n",
    "    DateFlagsTransform(week_number_in_month=True, out_column=\"date_flag\"),\n",
    "    FourierTransform(period=360.25, order=6, out_column=\"fourier\"),\n",
    "    SegmentEncoderTransform(),\n",
    "    MeanTransform(in_column=f\"target_lag_{HORIZON}\", window=12, seasonality=7),\n",
    "    MeanTransform(in_column=f\"target_lag_{HORIZON}\", window=7),\n",
    "]"
   ]
  },
  {
   "cell_type": "code",
   "execution_count": null,
   "id": "7e7b534b-6dd1-4b45-9563-c284dfde6a87",
   "metadata": {},
   "outputs": [],
   "source": [
    "# Prepare model\n",
    "#model = CatBoostMultiSegmentModel()\n",
    "#model = LinearMultiSegmentModel()\n",
    "model = NaiveModel(lag=1)"
   ]
  },
  {
   "cell_type": "code",
   "execution_count": null,
   "id": "c484ca26-5517-441a-bb03-e8fe743dc2e5",
   "metadata": {
    "scrolled": true
   },
   "outputs": [],
   "source": [
    "%%time\n",
    "from etna.pipeline import Pipeline\n",
    "\n",
    "# Create and fit the pipeline\n",
    "pipeline = Pipeline(model=model, transforms=transforms, horizon=HORIZON)\n",
    "pipeline.fit(train_ts)\n",
    "\n",
    "# Make a forecast\n",
    "forecast_ts = pipeline.forecast()"
   ]
  },
  {
   "cell_type": "code",
   "execution_count": null,
   "id": "00a3e5dd-a515-4ffc-ade0-d69fd87b0e89",
   "metadata": {},
   "outputs": [],
   "source": [
    "from etna.analysis import plot_forecast\n",
    "\n",
    "plot_forecast(forecast_ts=forecast_ts, test_ts=test_ts, train_ts=train_ts, n_train_samples=50)"
   ]
  },
  {
   "cell_type": "code",
   "execution_count": null,
   "id": "7183d4da-758b-41b7-aafc-f869f35f1cbd",
   "metadata": {},
   "outputs": [],
   "source": [
    "from etna.metrics import SMAPE\n",
    "\n",
    "metric = SMAPE(mode=\"macro\")\n",
    "metric_value = metric(y_true=test_ts, y_pred=forecast_ts)"
   ]
  },
  {
   "cell_type": "code",
   "execution_count": null,
   "id": "acae5b4d-a7fb-42c1-9a5c-54b0e7f7c9b2",
   "metadata": {},
   "outputs": [],
   "source": [
    "print(metric)"
   ]
  },
  {
   "cell_type": "code",
   "execution_count": null,
   "id": "ffa5da5d-8a4b-434c-bbb6-3a58b1eb2320",
   "metadata": {},
   "outputs": [],
   "source": [
    "print(metric_value)"
   ]
  },
  {
   "cell_type": "code",
   "execution_count": null,
   "id": "10b4c9e6-124a-4a3c-ba03-6824e5b7ddd0",
   "metadata": {},
   "outputs": [],
   "source": [
    "#4.59480745528492\n",
    "#42.2346166371593"
   ]
  }
 ],
 "metadata": {
  "kernelspec": {
   "display_name": "Python 3 (ipykernel)",
   "language": "python",
   "name": "python3"
  },
  "language_info": {
   "codemirror_mode": {
    "name": "ipython",
    "version": 3
   },
   "file_extension": ".py",
   "mimetype": "text/x-python",
   "name": "python",
   "nbconvert_exporter": "python",
   "pygments_lexer": "ipython3",
   "version": "3.10.13"
  },
  "toc": {
   "base_numbering": 1,
   "nav_menu": {},
   "number_sections": true,
   "sideBar": true,
   "skip_h1_title": false,
   "title_cell": "Table of Contents",
   "title_sidebar": "Contents",
   "toc_cell": false,
   "toc_position": {},
   "toc_section_display": true,
   "toc_window_display": false
  },
  "varInspector": {
   "cols": {
    "lenName": 16,
    "lenType": 16,
    "lenVar": 40
   },
   "kernels_config": {
    "python": {
     "delete_cmd_postfix": "",
     "delete_cmd_prefix": "del ",
     "library": "var_list.py",
     "varRefreshCmd": "print(var_dic_list())"
    },
    "r": {
     "delete_cmd_postfix": ") ",
     "delete_cmd_prefix": "rm(",
     "library": "var_list.r",
     "varRefreshCmd": "cat(var_dic_list()) "
    }
   },
   "types_to_exclude": [
    "module",
    "function",
    "builtin_function_or_method",
    "instance",
    "_Feature"
   ],
   "window_display": false
  }
 },
 "nbformat": 4,
 "nbformat_minor": 5
}
