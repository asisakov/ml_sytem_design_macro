{
 "cells": [
  {
   "cell_type": "markdown",
   "metadata": {},
   "source": [
    "# Get started\n",
    "\n",
    "<a href=\"https://mybinder.org/v2/gh/tinkoff-ai/etna/master?filepath=examples/get_started.ipynb\">\n",
    "    <img src=\"https://mybinder.org/badge_logo.svg\"  align='left'>\n",
    "</a>"
   ]
  },
  {
   "cell_type": "markdown",
   "metadata": {},
   "source": [
    "This notebook contains the simple examples of time series forecasting pipeline\n",
    "using ETNA library.\n",
    "\n",
    "**Table of Contents**\n",
    "\n",
    "* [Creating TSDataset](#chapter1)\n",
    "* [Plotting](#chapter2)\n",
    "* [Forecast single time series](#chapter3)\n",
    "    * [Simple forecast](#section_3_1)\n",
    "    * [Prophet](#section_3_2)\n",
    "    * [Catboost](#section_3_3)\n",
    "* [Forecast multiple time series](#chapter4)\n",
    "* [Pipeline](#chapter5)"
   ]
  },
  {
   "cell_type": "code",
   "execution_count": null,
   "metadata": {},
   "outputs": [],
   "source": [
    "import warnings\n",
    "\n",
    "warnings.filterwarnings(action=\"ignore\", message=\"Torchmetrics v0.9\")"
   ]
  },
  {
   "cell_type": "markdown",
   "metadata": {},
   "source": [
    "## 1. Creating TSDataset <a class=\"anchor\" id=\"chapter1\"></a>"
   ]
  },
  {
   "cell_type": "markdown",
   "metadata": {},
   "source": [
    "Let's load and look at the dataset"
   ]
  },
  {
   "cell_type": "code",
   "execution_count": null,
   "metadata": {
    "pycharm": {
     "name": "#%%\n"
    }
   },
   "outputs": [],
   "source": [
    "import pandas as pd"
   ]
  },
  {
   "cell_type": "code",
   "execution_count": null,
   "metadata": {
    "pycharm": {
     "name": "#%%\n"
    }
   },
   "outputs": [],
   "source": [
    "original_df = pd.read_csv(\"data/monthly-australian-wine-sales.csv\")\n",
    "original_df.head()"
   ]
  },
  {
   "cell_type": "markdown",
   "metadata": {
    "pycharm": {
     "name": "#%% md\n"
    }
   },
   "source": [
    "etna_ts is strict about data format:\n",
    "* column we want to predict should be called `target`\n",
    "* column with datatime data should be called `timestamp`\n",
    "* because etna is always ready to work with multiple time series, column `segment` is also compulsory\n",
    "\n",
    "Our library works with the special data structure TSDataset. So, before starting anything, we need to convert the classical DataFrame to TSDataset.\n",
    "\n",
    "Let's rename first"
   ]
  },
  {
   "cell_type": "code",
   "execution_count": null,
   "metadata": {
    "pycharm": {
     "name": "#%%\n"
    }
   },
   "outputs": [],
   "source": [
    "original_df[\"timestamp\"] = pd.to_datetime(original_df[\"month\"])\n",
    "original_df[\"target\"] = original_df[\"sales\"]\n",
    "original_df.drop(columns=[\"month\", \"sales\"], inplace=True)\n",
    "original_df[\"segment\"] = \"main\"\n",
    "original_df.head()"
   ]
  },
  {
   "cell_type": "markdown",
   "metadata": {
    "pycharm": {
     "name": "#%% md\n"
    }
   },
   "source": [
    "Time to convert to TSDataset!\n",
    "\n",
    "To do this, we initially need to convert the classical DataFrame to the special format."
   ]
  },
  {
   "cell_type": "code",
   "execution_count": null,
   "metadata": {
    "pycharm": {
     "name": "#%%\n"
    }
   },
   "outputs": [],
   "source": [
    "from etna.datasets.tsdataset import TSDataset"
   ]
  },
  {
   "cell_type": "code",
   "execution_count": null,
   "metadata": {
    "pycharm": {
     "name": "#%%\n"
    }
   },
   "outputs": [],
   "source": [
    "df = TSDataset.to_dataset(original_df)\n",
    "df.head()"
   ]
  },
  {
   "cell_type": "markdown",
   "metadata": {},
   "source": [
    "Now we can construct the TSDataset.\n",
    "\n",
    "Additionally to passing dataframe we should specify frequency of our data.\n",
    "In this case it is monthly data."
   ]
  },
  {
   "cell_type": "code",
   "execution_count": null,
   "metadata": {
    "pycharm": {
     "name": "#%%\n"
    }
   },
   "outputs": [],
   "source": [
    "ts = TSDataset(df, freq=\"1M\")"
   ]
  },
  {
   "cell_type": "markdown",
   "metadata": {},
   "source": [
    "Oups. Let's fix that"
   ]
  },
  {
   "cell_type": "code",
   "execution_count": null,
   "metadata": {
    "pycharm": {
     "name": "#%%\n"
    }
   },
   "outputs": [],
   "source": [
    "ts = TSDataset(df, freq=\"MS\")"
   ]
  },
  {
   "cell_type": "markdown",
   "metadata": {},
   "source": [
    "We can look at the basic information about the dataset"
   ]
  },
  {
   "cell_type": "code",
   "execution_count": null,
   "metadata": {},
   "outputs": [],
   "source": [
    "ts.info()"
   ]
  },
  {
   "cell_type": "markdown",
   "metadata": {},
   "source": [
    "Or in DataFrame format"
   ]
  },
  {
   "cell_type": "code",
   "execution_count": null,
   "metadata": {},
   "outputs": [],
   "source": [
    "ts.describe()"
   ]
  },
  {
   "cell_type": "markdown",
   "metadata": {},
   "source": [
    "## 2. Plotting <a class=\"anchor\" id=\"chapter2\"></a>\n",
    "\n",
    "Let's take a look at the time series in the dataset"
   ]
  },
  {
   "cell_type": "code",
   "execution_count": null,
   "metadata": {
    "pycharm": {
     "name": "#%%\n"
    }
   },
   "outputs": [],
   "source": [
    "ts.plot()"
   ]
  },
  {
   "cell_type": "markdown",
   "metadata": {},
   "source": [
    "## 3. Forecasting single time series <a class=\"anchor\" id=\"chapter3\"></a>\n",
    "\n",
    "Our library contains a wide range of different models for time series forecasting. Let's look at some of them."
   ]
  },
  {
   "cell_type": "markdown",
   "metadata": {},
   "source": [
    "### 3.1 Simple forecast<a class=\"anchor\" id=\"section_3_1\"></a>\n",
    "Let's predict the monthly values in 1994 in our dataset using the ```NaiveModel```"
   ]
  },
  {
   "cell_type": "code",
   "execution_count": null,
   "metadata": {
    "pycharm": {
     "name": "#%%\n"
    }
   },
   "outputs": [],
   "source": [
    "train_ts, test_ts = ts.train_test_split(\n",
    "    train_start=\"1980-01-01\",\n",
    "    train_end=\"1993-12-01\",\n",
    "    test_start=\"1994-01-01\",\n",
    "    test_end=\"1994-08-01\",\n",
    ")"
   ]
  },
  {
   "cell_type": "code",
   "execution_count": null,
   "metadata": {
    "pycharm": {
     "name": "#%%\n"
    }
   },
   "outputs": [],
   "source": [
    "HORIZON = 8\n",
    "from etna.models import NaiveModel\n",
    "\n",
    "# Fit the model\n",
    "model = NaiveModel(lag=12)\n",
    "model.fit(train_ts)\n",
    "\n",
    "# Make the forecast\n",
    "future_ts = train_ts.make_future(future_steps=HORIZON, tail_steps=model.context_size)\n",
    "forecast_ts = model.forecast(future_ts, prediction_size=HORIZON)"
   ]
  },
  {
   "cell_type": "markdown",
   "metadata": {},
   "source": [
    "Here we pass `prediction_size` parameter during `forecast` because in `forecast_ts` few first points are dedicated to be a context for `NaiveModel`."
   ]
  },
  {
   "cell_type": "markdown",
   "metadata": {
    "pycharm": {
     "name": "#%% md\n"
    }
   },
   "source": [
    "Now let's look at a metric and plot the prediction.\n",
    "All the methods already built-in in etna."
   ]
  },
  {
   "cell_type": "code",
   "execution_count": null,
   "metadata": {
    "pycharm": {
     "name": "#%%\n"
    }
   },
   "outputs": [],
   "source": [
    "from etna.metrics import SMAPE"
   ]
  },
  {
   "cell_type": "code",
   "execution_count": null,
   "metadata": {
    "pycharm": {
     "name": "#%%\n"
    }
   },
   "outputs": [],
   "source": [
    "smape = SMAPE()\n",
    "smape(y_true=test_ts, y_pred=forecast_ts)"
   ]
  },
  {
   "cell_type": "code",
   "execution_count": null,
   "metadata": {
    "pycharm": {
     "name": "#%%\n"
    }
   },
   "outputs": [],
   "source": [
    "from etna.analysis import plot_forecast"
   ]
  },
  {
   "cell_type": "code",
   "execution_count": null,
   "metadata": {
    "pycharm": {
     "name": "#%%\n"
    }
   },
   "outputs": [],
   "source": [
    "plot_forecast(forecast_ts, test_ts, train_ts, n_train_samples=10)"
   ]
  },
  {
   "cell_type": "markdown",
   "metadata": {
    "pycharm": {
     "name": "#%% md\n"
    }
   },
   "source": [
    "### 3.2 Prophet<a class=\"anchor\" id=\"section_3_2\"></a>\n",
    "\n",
    "Now try to improve the forecast and predict the values with Prophet."
   ]
  },
  {
   "cell_type": "code",
   "execution_count": null,
   "metadata": {
    "pycharm": {
     "name": "#%%\n"
    }
   },
   "outputs": [],
   "source": [
    "from etna.models import ProphetModel\n",
    "\n",
    "model = ProphetModel()\n",
    "model.fit(train_ts)\n",
    "\n",
    "# Make the forecast\n",
    "future_ts = train_ts.make_future(HORIZON)\n",
    "forecast_ts = model.forecast(future_ts)"
   ]
  },
  {
   "cell_type": "code",
   "execution_count": null,
   "metadata": {
    "pycharm": {
     "name": "#%%\n"
    }
   },
   "outputs": [],
   "source": [
    "smape(y_true=test_ts, y_pred=forecast_ts)"
   ]
  },
  {
   "cell_type": "code",
   "execution_count": null,
   "metadata": {
    "pycharm": {
     "name": "#%%\n"
    }
   },
   "outputs": [],
   "source": [
    "plot_forecast(forecast_ts, test_ts, train_ts, n_train_samples=10)"
   ]
  },
  {
   "cell_type": "markdown",
   "metadata": {},
   "source": [
    "### 3.2 Catboost<a class=\"anchor\" id=\"section_3_3\"></a>\n",
    "And finally let's try the Catboost model.\n",
    "\n",
    "Also etna has wide range of transforms you may apply to your data.\n",
    "\n",
    "Transforms are not stored in the dataset, so you should pass them explicitly to `transform`, `inverse_transform` and `make_future` methods.\n",
    "\n",
    "Here how it is done:"
   ]
  },
  {
   "cell_type": "code",
   "execution_count": null,
   "metadata": {
    "pycharm": {
     "name": "#%%\n"
    }
   },
   "outputs": [],
   "source": [
    "from etna.transforms import LagTransform, LogTransform\n",
    "\n",
    "lags = LagTransform(in_column=\"target\", lags=list(range(8, 24, 1)))\n",
    "log = LogTransform(in_column=\"target\")\n",
    "transforms = [log, lags]\n",
    "train_ts.fit_transform(transforms)"
   ]
  },
  {
   "cell_type": "code",
   "execution_count": null,
   "metadata": {
    "pycharm": {
     "name": "#%%\n"
    }
   },
   "outputs": [],
   "source": [
    "from etna.models import CatBoostMultiSegmentModel\n",
    "\n",
    "model = CatBoostMultiSegmentModel()\n",
    "model.fit(train_ts)\n",
    "future_ts = train_ts.make_future(future_steps=HORIZON, transforms=transforms)\n",
    "forecast_ts = model.forecast(future_ts)\n",
    "forecast_ts.inverse_transform(transforms)"
   ]
  },
  {
   "cell_type": "code",
   "execution_count": null,
   "metadata": {
    "pycharm": {
     "name": "#%%\n"
    }
   },
   "outputs": [],
   "source": [
    "from etna.metrics import SMAPE\n",
    "\n",
    "smape = SMAPE()\n",
    "smape(y_true=test_ts, y_pred=forecast_ts)"
   ]
  },
  {
   "cell_type": "code",
   "execution_count": null,
   "metadata": {
    "pycharm": {
     "name": "#%%\n"
    }
   },
   "outputs": [],
   "source": [
    "from etna.analysis import plot_forecast\n",
    "\n",
    "train_ts.inverse_transform(transforms)\n",
    "plot_forecast(forecast_ts, test_ts, train_ts, n_train_samples=10)"
   ]
  },
  {
   "cell_type": "markdown",
   "metadata": {},
   "source": [
    "## 4. Forecasting multiple time series <a class=\"anchor\" id=\"chapter4\"></a>\n",
    "\n",
    "In this section you may see example of how easily etna works\n",
    "with multiple time series and get acquainted with other transforms etna contains."
   ]
  },
  {
   "cell_type": "code",
   "execution_count": null,
   "metadata": {
    "pycharm": {
     "name": "#%%\n"
    }
   },
   "outputs": [],
   "source": [
    "original_df = pd.read_csv(\"data/example_dataset.csv\")\n",
    "original_df.head()"
   ]
  },
  {
   "cell_type": "code",
   "execution_count": null,
   "metadata": {
    "pycharm": {
     "name": "#%%\n"
    }
   },
   "outputs": [],
   "source": [
    "df = TSDataset.to_dataset(original_df)\n",
    "ts = TSDataset(df, freq=\"D\")\n",
    "ts.plot()"
   ]
  },
  {
   "cell_type": "code",
   "execution_count": null,
   "metadata": {},
   "outputs": [],
   "source": [
    "ts.info()"
   ]
  },
  {
   "cell_type": "code",
   "execution_count": null,
   "metadata": {
    "pycharm": {
     "name": "#%%\n"
    }
   },
   "outputs": [],
   "source": [
    "import warnings\n",
    "\n",
    "from etna.transforms import (\n",
    "    MeanTransform,\n",
    "    LagTransform,\n",
    "    LogTransform,\n",
    "    SegmentEncoderTransform,\n",
    "    DateFlagsTransform,\n",
    "    LinearTrendTransform,\n",
    ")\n",
    "\n",
    "warnings.filterwarnings(\"ignore\")\n",
    "\n",
    "log = LogTransform(in_column=\"target\")\n",
    "trend = LinearTrendTransform(in_column=\"target\")\n",
    "seg = SegmentEncoderTransform()\n",
    "\n",
    "lags = LagTransform(in_column=\"target\", lags=list(range(30, 96, 1)))\n",
    "d_flags = DateFlagsTransform(\n",
    "    day_number_in_week=True,\n",
    "    day_number_in_month=True,\n",
    "    week_number_in_month=True,\n",
    "    week_number_in_year=True,\n",
    "    month_number_in_year=True,\n",
    "    year_number=True,\n",
    "    special_days_in_week=[5, 6],\n",
    ")\n",
    "mean30 = MeanTransform(in_column=\"target\", window=30)\n",
    "transforms = [log, trend, lags, d_flags, seg, mean30]"
   ]
  },
  {
   "cell_type": "code",
   "execution_count": null,
   "metadata": {
    "pycharm": {
     "name": "#%%\n"
    }
   },
   "outputs": [],
   "source": [
    "HORIZON = 30\n",
    "train_ts, test_ts = ts.train_test_split(\n",
    "    train_start=\"2019-01-01\",\n",
    "    train_end=\"2019-10-31\",\n",
    "    test_start=\"2019-11-01\",\n",
    "    test_end=\"2019-11-30\",\n",
    ")\n",
    "train_ts.fit_transform(transforms)"
   ]
  },
  {
   "cell_type": "code",
   "execution_count": null,
   "metadata": {},
   "outputs": [],
   "source": [
    "test_ts.info()"
   ]
  },
  {
   "cell_type": "code",
   "execution_count": null,
   "metadata": {
    "pycharm": {
     "name": "#%%\n"
    }
   },
   "outputs": [],
   "source": [
    "from etna.models.catboost import CatBoostMultiSegmentModel\n",
    "\n",
    "model = CatBoostMultiSegmentModel()\n",
    "model.fit(train_ts)\n",
    "future_ts = train_ts.make_future(future_steps=HORIZON, transforms=transforms)\n",
    "forecast_ts = model.forecast(future_ts)\n",
    "forecast_ts.inverse_transform(transforms)"
   ]
  },
  {
   "cell_type": "code",
   "execution_count": null,
   "metadata": {
    "pycharm": {
     "name": "#%%\n"
    }
   },
   "outputs": [],
   "source": [
    "smape = SMAPE()\n",
    "smape(y_true=test_ts, y_pred=forecast_ts)"
   ]
  },
  {
   "cell_type": "code",
   "execution_count": null,
   "metadata": {
    "pycharm": {
     "name": "#%%\n"
    }
   },
   "outputs": [],
   "source": [
    "train_ts.inverse_transform(transforms)\n",
    "plot_forecast(forecast_ts, test_ts, train_ts, n_train_samples=20)"
   ]
  },
  {
   "cell_type": "markdown",
   "metadata": {},
   "source": [
    "## 5. Pipeline <a class=\"anchor\" id=\"chapter5\"></a>\n",
    "\n",
    "Let's wrap everything into pipeline to create the end-to-end model from previous section."
   ]
  },
  {
   "cell_type": "code",
   "execution_count": null,
   "metadata": {},
   "outputs": [],
   "source": [
    "from etna.pipeline import Pipeline"
   ]
  },
  {
   "cell_type": "code",
   "execution_count": null,
   "metadata": {},
   "outputs": [],
   "source": [
    "train_ts, test_ts = ts.train_test_split(\n",
    "    train_start=\"2019-01-01\",\n",
    "    train_end=\"2019-10-31\",\n",
    "    test_start=\"2019-11-01\",\n",
    "    test_end=\"2019-11-30\",\n",
    ")"
   ]
  },
  {
   "cell_type": "markdown",
   "metadata": {},
   "source": [
    "We put: **model**, **transforms** and **horizon** in a single object, which has the similar interface with the model(fit/forecast)"
   ]
  },
  {
   "cell_type": "code",
   "execution_count": null,
   "metadata": {},
   "outputs": [],
   "source": [
    "model = Pipeline(\n",
    "    model=CatBoostMultiSegmentModel(),\n",
    "    transforms=transforms,\n",
    "    horizon=HORIZON,\n",
    ")\n",
    "model.fit(train_ts)\n",
    "forecast_ts = model.forecast()"
   ]
  },
  {
   "cell_type": "markdown",
   "metadata": {},
   "source": [
    "As in the previous section, let's calculate the metrics and plot the forecast"
   ]
  },
  {
   "cell_type": "code",
   "execution_count": null,
   "metadata": {},
   "outputs": [],
   "source": [
    "smape = SMAPE()\n",
    "smape(y_true=test_ts, y_pred=forecast_ts)"
   ]
  },
  {
   "cell_type": "code",
   "execution_count": null,
   "metadata": {
    "pycharm": {
     "name": "#%%\n"
    }
   },
   "outputs": [],
   "source": [
    "plot_forecast(forecast_ts, test_ts, train_ts, n_train_samples=20)"
   ]
  }
 ],
 "metadata": {
  "kernelspec": {
   "display_name": "Python 3 (ipykernel)",
   "language": "python",
   "name": "python3"
  },
  "language_info": {
   "codemirror_mode": {
    "name": "ipython",
    "version": 3
   },
   "file_extension": ".py",
   "mimetype": "text/x-python",
   "name": "python",
   "nbconvert_exporter": "python",
   "pygments_lexer": "ipython3",
   "version": "3.10.13"
  }
 },
 "nbformat": 4,
 "nbformat_minor": 4
}
