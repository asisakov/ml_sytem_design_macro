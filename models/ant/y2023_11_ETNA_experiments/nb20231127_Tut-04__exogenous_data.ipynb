{
 "cells": [
  {
   "cell_type": "markdown",
   "metadata": {
    "pycharm": {
     "name": "#%% md\n"
    }
   },
   "source": [
    "# Regressors and exogenous data\n",
    "\n",
    "<a href=\"https://mybinder.org/v2/gh/tinkoff-ai/etna/master?filepath=examples/exogenous_data.ipynb\">\n",
    "    <img src=\"https://mybinder.org/badge_logo.svg\"  align='left'>\n",
    "</a>\n"
   ]
  },
  {
   "cell_type": "markdown",
   "metadata": {
    "pycharm": {
     "name": "#%% md\n"
    }
   },
   "source": [
    "This notebook serves as a tutorial for:\n",
    "\n",
    "- Loading regressors to TSDataset\n",
    "- Training and using a model with regressors\n",
    "\n",
    "**Table of Contents**\n",
    "\n",
    "* [What is regressor?](#chapter1)\n",
    "    * [What is exogenous data?](#chapter1_1)\n",
    "* [Dataset](#chapter2)\n",
    "    * [Loading Dataset](#chapter2_1)\n",
    "    * [EDA](#chapter2_2)\n",
    "* [Forecast with regressors](#chapter3)\n"
   ]
  },
  {
   "cell_type": "markdown",
   "metadata": {},
   "source": [
    "## 1. What is regressor? <a class=\"anchor\" id=\"chapter1\"></a>\n",
    "\n",
    "In previous tutorials, we have shown how to work with **target time series**.\n",
    "\n",
    "> Target time series is a time series we want to forecast.\n",
    "\n",
    "But imagine that you have information about the future that can help model with forecasting target time series.\n",
    "It may be information about holidays, weather, recurring events, marketing campaigns, etc.\n",
    "We will call it **regressor**.\n",
    "\n",
    "> Regressor is a time series that we are not interested in forecasting, however, it may help to forecast the target time series.\n",
    "\n",
    "To apply an ML model that uses regressors to make more accurate forecasts,\n",
    "we need to know how regressors affected the target time series in the past and information\n",
    "about their values in the future.\n",
    "\n",
    "### What is additional data? <a class=\"anchor\" id=\"chapter1_1\"></a>\n",
    "\n",
    "There is also data that we don't know in advance.\n",
    "However using it still allows us to make more accurate forecasts. This data we will call **additional data**.\n",
    "For example, if many users bought a new phone few weeks ago we should expect more support requests on this product.\n",
    "\n",
    "In order to use additional data in ML models we should create regressors out of them.\n",
    "For example, it could be done with LagTransform or TrendTransform.\n",
    "\n",
    "In this tutorial we will not look at **additional data** and will focus on **regressors**."
   ]
  },
  {
   "cell_type": "markdown",
   "metadata": {},
   "source": [
    "## 2. Dataset <a class=\"anchor\" id=\"chapter2\"></a>\n",
    "\n",
    "ETNA allows working with regressor as convenient as with target time series.\n",
    "\n",
    "We are going to forecast the time series from [Tabular Playground Series - Jan 2022](https://www.kaggle.com/c/tabular-playground-series-jan-2022/overview).\n",
    "The dataset contains daily merchandise sales – mugs, hats, and stickers – at two imaginary\n",
    "store chains across three Scandinavian countries. As exogenous data, we will use\n",
    "[Finland, Norway, and Sweden Weather Data 2015-2019](https://www.kaggle.com/adamwurdits/finland-norway-and-sweden-weather-data-20152019?select=nordics_weather.csv)\n",
    "dataset containing daily country average precipitation, snow depth and air temperature data.\n",
    "\n",
    "### 2.1 Loading Dataset <a class=\"anchor\" id=\"chapter2_1\"></a>\n",
    "\n",
    "First, let's load the data."
   ]
  },
  {
   "cell_type": "code",
   "execution_count": null,
   "metadata": {
    "pycharm": {
     "name": "#%%\n"
    }
   },
   "outputs": [],
   "source": [
    "import pandas as pd\n",
    "import warnings\n",
    "\n",
    "warnings.filterwarnings(\"ignore\")\n",
    "\n",
    "target_df = pd.read_csv(\"data/nordic_merch_sales.csv\")\n",
    "regressor_df = pd.read_csv(\"data/nordics_weather.csv\")"
   ]
  },
  {
   "cell_type": "markdown",
   "metadata": {
    "pycharm": {
     "name": "#%% md\n"
    }
   },
   "source": [
    "The next step is converting the data into the ETNA format.\n",
    "Code that allows us to do that is identical for target time series and exogenous data."
   ]
  },
  {
   "cell_type": "code",
   "execution_count": null,
   "metadata": {},
   "outputs": [],
   "source": [
    "# NEW 2023-11-27\n",
    "target_df"
   ]
  },
  {
   "cell_type": "code",
   "execution_count": null,
   "metadata": {},
   "outputs": [],
   "source": [
    "target_df.info()"
   ]
  },
  {
   "cell_type": "code",
   "execution_count": null,
   "metadata": {},
   "outputs": [],
   "source": [
    "regressor_df"
   ]
  },
  {
   "cell_type": "code",
   "execution_count": null,
   "metadata": {
    "pycharm": {
     "name": "#%%\n"
    }
   },
   "outputs": [],
   "source": [
    "from etna.datasets import TSDataset\n",
    "\n",
    "#target_df = TSDataset.to_dataset(target_df)\n",
    "#target_df.tail()\n",
    "tsd_target = TSDataset.to_dataset(target_df)\n",
    "tsd_target.tail()"
   ]
  },
  {
   "cell_type": "code",
   "execution_count": null,
   "metadata": {},
   "outputs": [],
   "source": [
    "tsd_target.info()"
   ]
  },
  {
   "cell_type": "markdown",
   "metadata": {
    "pycharm": {
     "name": "#%% md\n"
    }
   },
   "source": [
    "As you can see, the target ends in 2018, and the exogenous data ends in 2019,\n",
    "so we have prior information a year ahead.\n",
    "This implies that our exogenous data contains only regressors."
   ]
  },
  {
   "cell_type": "code",
   "execution_count": null,
   "metadata": {
    "pycharm": {
     "name": "#%%\n"
    }
   },
   "outputs": [],
   "source": [
    "regressor_df = TSDataset.to_dataset(regressor_df)\n",
    "regressor_df.tail()"
   ]
  },
  {
   "cell_type": "markdown",
   "metadata": {
    "pycharm": {
     "name": "#%% md\n"
    }
   },
   "source": [
    "Then we have to create TSDataset with both target time series and exogenous data.\n",
    "TSDataset expects us to put target time series in `df` argument and exogenous data in `df_exog`.\n",
    "We should do it because regressors contain information about the target's future.\n",
    "TSDataset ensures we don't mix them.\n",
    "\n",
    "In order to specify the columns of df_exog, which contains regressors, we need to use the `known_future` parameter.\n",
    "This allows TSDataset to determine which columns are **regressors** and which columns are **additional data**."
   ]
  },
  {
   "cell_type": "code",
   "execution_count": null,
   "metadata": {
    "pycharm": {
     "name": "#%%\n"
    }
   },
   "outputs": [],
   "source": [
    "ts = TSDataset(df=target_df, freq=\"D\", df_exog=regressor_df, known_future=\"all\")\n",
    "ts.head()"
   ]
  },
  {
   "cell_type": "code",
   "execution_count": null,
   "metadata": {},
   "outputs": [],
   "source": [
    "ts.tail()"
   ]
  },
  {
   "cell_type": "markdown",
   "metadata": {
    "pycharm": {
     "name": "#%% md\n"
    }
   },
   "source": [
    "### 2.2 EDA <a class=\"anchor\" id=\"chapter2_2\"></a>\n",
    "\n",
    "TSDataset joins exogenous data and the target time series,\n",
    "so we can visualize and analyze exogenous data in the same way as target time series.\n",
    "More information in [EDA notebook](https://github.com/tinkoff-ai/etna/blob/09a7938103c56e10bcdac7f13def9fa66c2c88dd/examples/EDA.ipynb)."
   ]
  },
  {
   "cell_type": "code",
   "execution_count": null,
   "metadata": {
    "pycharm": {
     "name": "#%%\n"
    }
   },
   "outputs": [],
   "source": [
    "ts.plot(column=\"snow_depth\", n_segments=2)"
   ]
  },
  {
   "cell_type": "code",
   "execution_count": null,
   "metadata": {
    "pycharm": {
     "name": "#%%\n"
    }
   },
   "outputs": [],
   "source": [
    "ts.plot(column=\"precipitation\", n_segments=2)"
   ]
  },
  {
   "cell_type": "code",
   "execution_count": null,
   "metadata": {
    "pycharm": {
     "name": "#%%\n"
    }
   },
   "outputs": [],
   "source": [
    "ts.plot(column=\"target\", n_segments=2)"
   ]
  },
  {
   "cell_type": "markdown",
   "metadata": {
    "pycharm": {
     "name": "#%% md\n"
    }
   },
   "source": [
    "## 3. Forecast with regressors <a class=\"anchor\" id=\"chapter3\"></a>\n",
    "\n",
    "We will use LinearPerSegmentModel. It is a simple model that works with regressors.\n",
    "\n",
    "> Note: some models do not work with regressors. In this case, they will warn you about it.\n",
    "\n",
    "We should forecast merchandise sales a year ahead using regressors with information about weather."
   ]
  },
  {
   "cell_type": "code",
   "execution_count": null,
   "metadata": {
    "pycharm": {
     "name": "#%%\n"
    }
   },
   "outputs": [],
   "source": [
    "from etna.models import LinearPerSegmentModel\n",
    "\n",
    "HORIZON = 365\n",
    "model = LinearPerSegmentModel()"
   ]
  },
  {
   "cell_type": "markdown",
   "metadata": {},
   "source": [
    "ETNA allows to configure the transforms to work with exogenous data the same way as they work with the time series.\n",
    "In addition to this, transforms will automatically update information about regressors in TSDataset."
   ]
  },
  {
   "cell_type": "code",
   "execution_count": null,
   "metadata": {
    "pycharm": {
     "name": "#%%\n"
    }
   },
   "outputs": [],
   "source": [
    "from etna.transforms import FilterFeaturesTransform\n",
    "\n",
    "from etna.transforms import MeanTransform  # math\n",
    "from etna.transforms import DateFlagsTransform, HolidayTransform  # datetime\n",
    "from etna.transforms import LagTransform  # lags\n",
    "\n",
    "transforms = [\n",
    "    LagTransform(\n",
    "        in_column=\"target\",\n",
    "        lags=list(range(HORIZON, HORIZON + 28)),\n",
    "        out_column=\"target_lag\",\n",
    "    ),\n",
    "    LagTransform(in_column=\"tavg\", lags=list(range(1, 3)), out_column=\"tavg_lag\"),\n",
    "    MeanTransform(in_column=\"tavg\", window=7, out_column=\"tavg_mean\"),\n",
    "    MeanTransform(\n",
    "        in_column=\"target_lag_365\",\n",
    "        out_column=\"target_mean\",\n",
    "        window=104,\n",
    "        seasonality=7,\n",
    "    ),\n",
    "    DateFlagsTransform(\n",
    "        day_number_in_week=True,\n",
    "        day_number_in_month=True,\n",
    "        is_weekend=True,\n",
    "        special_days_in_week=[4],\n",
    "        out_column=\"date_flag\",\n",
    "    ),\n",
    "    HolidayTransform(iso_code=\"SWE\", out_column=\"SWE_holidays\"),\n",
    "    HolidayTransform(iso_code=\"NOR\", out_column=\"NOR_holidays\"),\n",
    "    HolidayTransform(iso_code=\"FIN\", out_column=\"FIN_holidays\"),\n",
    "    LagTransform(\n",
    "        in_column=\"SWE_holidays\",\n",
    "        lags=list(range(2, 6)),\n",
    "        out_column=\"SWE_holidays_lag\",\n",
    "    ),\n",
    "    LagTransform(\n",
    "        in_column=\"NOR_holidays\",\n",
    "        lags=list(range(2, 6)),\n",
    "        out_column=\"NOR_holidays_lag\",\n",
    "    ),\n",
    "    LagTransform(\n",
    "        in_column=\"FIN_holidays\",\n",
    "        lags=list(range(2, 6)),\n",
    "        out_column=\"FIN_holidays_lag\",\n",
    "    ),\n",
    "    FilterFeaturesTransform(exclude=[\"precipitation\", \"snow_depth\", \"tmin\", \"tmax\"]),\n",
    "]"
   ]
  },
  {
   "cell_type": "markdown",
   "metadata": {
    "pycharm": {
     "name": "#%% md\n"
    }
   },
   "source": [
    "The next steps are literally identical to the situation when we work with target time series only."
   ]
  },
  {
   "cell_type": "code",
   "execution_count": null,
   "metadata": {
    "pycharm": {
     "name": "#%%\n"
    }
   },
   "outputs": [],
   "source": [
    "from etna.pipeline import Pipeline\n",
    "\n",
    "pipeline = Pipeline(model=model, transforms=transforms, horizon=HORIZON)"
   ]
  },
  {
   "cell_type": "code",
   "execution_count": null,
   "metadata": {
    "pycharm": {
     "name": "#%%\n"
    }
   },
   "outputs": [],
   "source": [
    "from etna.metrics import SMAPE\n",
    "\n",
    "metrics, forecasts, _ = pipeline.backtest(ts, metrics=[SMAPE()], aggregate_metrics=True, n_folds=2)"
   ]
  },
  {
   "cell_type": "code",
   "execution_count": null,
   "metadata": {
    "pycharm": {
     "name": "#%%\n"
    }
   },
   "outputs": [],
   "source": [
    "metrics"
   ]
  },
  {
   "cell_type": "code",
   "execution_count": null,
   "metadata": {
    "pycharm": {
     "name": "#%%\n"
    }
   },
   "outputs": [],
   "source": [
    "from etna.analysis import plot_backtest\n",
    "\n",
    "plot_backtest(forecasts, ts)"
   ]
  },
  {
   "cell_type": "markdown",
   "metadata": {
    "pycharm": {
     "name": "#%% md\n"
    }
   },
   "source": [
    "Supporting more work strategies for regressors and additional data is a future feature on the ETNA development roadmap.\n"
   ]
  }
 ],
 "metadata": {
  "kernelspec": {
   "display_name": "Python 3 (ipykernel)",
   "language": "python",
   "name": "python3"
  },
  "language_info": {
   "codemirror_mode": {
    "name": "ipython",
    "version": 3
   },
   "file_extension": ".py",
   "mimetype": "text/x-python",
   "name": "python",
   "nbconvert_exporter": "python",
   "pygments_lexer": "ipython3",
   "version": "3.10.13"
  }
 },
 "nbformat": 4,
 "nbformat_minor": 4
}
