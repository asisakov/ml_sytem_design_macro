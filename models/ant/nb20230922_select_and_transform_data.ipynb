{
 "cells": [
  {
   "cell_type": "code",
   "execution_count": null,
   "id": "f887d249",
   "metadata": {},
   "outputs": [],
   "source": [
    "# Goal: Do simple transformation of source time-series data\n",
    "# \n",
    "# Version history (only major changes):\n",
    "# 2023-09-22: Initial creation"
   ]
  },
  {
   "cell_type": "markdown",
   "id": "da3fc686",
   "metadata": {},
   "source": [
    "# Imports"
   ]
  },
  {
   "cell_type": "code",
   "execution_count": null,
   "id": "ba1bb6df",
   "metadata": {},
   "outputs": [],
   "source": [
    "import datetime\n",
    "import os\n",
    "import pandas as pd"
   ]
  },
  {
   "cell_type": "markdown",
   "id": "e64e6c18",
   "metadata": {},
   "source": [
    "\n",
    "# Settings"
   ]
  },
  {
   "cell_type": "code",
   "execution_count": null,
   "id": "a0540624",
   "metadata": {},
   "outputs": [],
   "source": [
    "FNAME = os.path.join(r'../../data/PCPS_06-08-2023 20-05-34-68_timeSeries.csv')\n",
    "assert os.path.isfile(FNAME), f\"{FNAME=}\"\n",
    "print(f\"Successfully checked: {FNAME=}\")\n",
    "\n",
    "# Commodity Code to select\n",
    "COLS__INTERESTING_CC = [\n",
    "    \"PALUM\",    # Aluminum\n",
    "    \"PCOAL\",    # Coal index \n",
    "    \"PALLMETA\"  # All Metals Index\n",
    "]\n",
    "\n",
    "# Unit Code to select\n",
    "UNIT_CODE = \"IX\"\n",
    "\n",
    "# Range of dates to select\n",
    "COL__BEGIN_TS_LABEL = \"1990M1\"\n",
    "COL__END_TS_LABEL = \"2023M5\""
   ]
  },
  {
   "cell_type": "markdown",
   "id": "feb50993",
   "metadata": {},
   "source": [
    "# Load data"
   ]
  },
  {
   "cell_type": "code",
   "execution_count": null,
   "id": "a8dc56fb",
   "metadata": {},
   "outputs": [],
   "source": [
    "df_main = pd.read_csv(FNAME, index_col=False)\n",
    "print(df_main.shape)\n",
    "df_main"
   ]
  },
  {
   "cell_type": "markdown",
   "id": "8ad018eb",
   "metadata": {},
   "source": [
    "# Transform data to row-level time series"
   ]
  },
  {
   "cell_type": "code",
   "execution_count": null,
   "id": "9d38c7bc",
   "metadata": {},
   "outputs": [],
   "source": [
    "print(COLS__INTERESTING_CC)"
   ]
  },
  {
   "cell_type": "code",
   "execution_count": null,
   "id": "c4fefcf7",
   "metadata": {},
   "outputs": [],
   "source": [
    "df_tmp = df_main[(df_main[\"Commodity Code\"].isin(COLS__INTERESTING_CC)) & (df_main[\"Unit Code\"] == \"IX\")]\n",
    "assert len(df_tmp) == len(COLS__INTERESTING_CC)\n",
    "df_tmp"
   ]
  },
  {
   "cell_type": "code",
   "execution_count": null,
   "id": "64fb9c1b",
   "metadata": {},
   "outputs": [],
   "source": [
    "# Get names of future columns (order may be different from ours)\n",
    "CC_LABELS = df_tmp[\"Commodity Code\"].to_list()\n",
    "CC_LABELS"
   ]
  },
  {
   "cell_type": "code",
   "execution_count": null,
   "id": "7dc7c46a",
   "metadata": {},
   "outputs": [],
   "source": [
    "# Prepare resulting dataframe (transposed)\n",
    "df_res = df_tmp.loc[:, COL__BEGIN_TS_LABEL:COL__END_TS_LABEL].T\n",
    "\n",
    "# Assign column names\n",
    "df_res.columns = CC_LABELS\n",
    "\n",
    "# Show the result\n",
    "df_res"
   ]
  },
  {
   "cell_type": "markdown",
   "id": "6a075c26",
   "metadata": {},
   "source": [
    "# Export transformed file"
   ]
  },
  {
   "cell_type": "code",
   "execution_count": null,
   "id": "e7b44046",
   "metadata": {},
   "outputs": [],
   "source": [
    "# Export the result to file with timestamp\n",
    "timestamp = datetime.datetime.now().strftime('%Y-%m-%dT%H%M%S')\n",
    "fname = f\"__{timestamp}_transformed_data.csv\"\n",
    "assert not os.path.exists(fname)\n",
    "df_res.to_csv(fname)\n",
    "print(f\"Saved to: {fname}\")"
   ]
  },
  {
   "cell_type": "code",
   "execution_count": null,
   "id": "90cd2377",
   "metadata": {},
   "outputs": [],
   "source": []
  }
 ],
 "metadata": {
  "kernelspec": {
   "display_name": "Python 3 (ipykernel)",
   "language": "python",
   "name": "python3"
  },
  "language_info": {
   "codemirror_mode": {
    "name": "ipython",
    "version": 3
   },
   "file_extension": ".py",
   "mimetype": "text/x-python",
   "name": "python",
   "nbconvert_exporter": "python",
   "pygments_lexer": "ipython3",
   "version": "3.9.18"
  },
  "toc": {
   "base_numbering": 1,
   "nav_menu": {},
   "number_sections": true,
   "sideBar": true,
   "skip_h1_title": false,
   "title_cell": "Table of Contents",
   "title_sidebar": "Contents",
   "toc_cell": false,
   "toc_position": {
    "height": "calc(100% - 180px)",
    "left": "10px",
    "top": "150px",
    "width": "438.802px"
   },
   "toc_section_display": true,
   "toc_window_display": true
  },
  "varInspector": {
   "cols": {
    "lenName": 16,
    "lenType": 16,
    "lenVar": 40
   },
   "kernels_config": {
    "python": {
     "delete_cmd_postfix": "",
     "delete_cmd_prefix": "del ",
     "library": "var_list.py",
     "varRefreshCmd": "print(var_dic_list())"
    },
    "r": {
     "delete_cmd_postfix": ") ",
     "delete_cmd_prefix": "rm(",
     "library": "var_list.r",
     "varRefreshCmd": "cat(var_dic_list()) "
    }
   },
   "types_to_exclude": [
    "module",
    "function",
    "builtin_function_or_method",
    "instance",
    "_Feature"
   ],
   "window_display": false
  }
 },
 "nbformat": 4,
 "nbformat_minor": 5
}
